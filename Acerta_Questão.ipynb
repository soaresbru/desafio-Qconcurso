{
  "cells": [
    {
      "cell_type": "markdown",
      "metadata": {
        "id": "view-in-github",
        "colab_type": "text"
      },
      "source": [
        "<a href=\"https://colab.research.google.com/github/soaresbru/desafio-Qconcurso/blob/main/Acerta_Quest%C3%A3o.ipynb\" target=\"_parent\"><img src=\"https://colab.research.google.com/assets/colab-badge.svg\" alt=\"Open In Colab\"/></a>"
      ]
    },
    {
      "cell_type": "markdown",
      "metadata": {
        "id": "IDs8DmfR1OXJ"
      },
      "source": [
        "# <center>O Desafio de Aprendizagem Adaptativa</center>\n",
        "# <center>Qconcurso - SigmaGeek</center>\n",
        "___"
      ]
    },
    {
      "cell_type": "markdown",
      "source": [
        "Esta é a primeira competição que participo.\n",
        "  \n",
        "Resolvendo o case em apenas 2 dias e ficando entre os 28% melhores.  \n",
        "\n",
        "Eu sabia que tinha pouco tempo para fazer então tentei entregar um produto rápido e que já serviria de alguma forma, tentando implementar o conceito de MVP (Produto mínimo viável)"
      ],
      "metadata": {
        "id": "kcRuhH6oM4Ds"
      }
    },
    {
      "cell_type": "markdown",
      "metadata": {
        "id": "7ohJ3STj1d8W"
      },
      "source": [
        "## Conteúdo\n",
        "1. Leitura das bases consumidas\n",
        "2. Análise dos dados\n",
        "3. Engenharia de Variáveis\n",
        "4. Treinando o modelo\n",
        "5. Criando o modelo para submissão"
      ]
    },
    {
      "cell_type": "markdown",
      "metadata": {
        "id": "Px3tQIVa2BCa"
      },
      "source": [
        "## 1. Leitura das Bases\n",
        "\n",
        "Nesta etapa, as bibliotecas utilizadas serão importadas e base de dados para análise serão carregados\n",
        "\n"
      ]
    },
    {
      "cell_type": "code",
      "execution_count": null,
      "metadata": {
        "id": "DChgpeYRwPVh"
      },
      "outputs": [],
      "source": [
        "# Importando as bibliotecas padrões\n",
        "import numpy as np\n",
        "import pandas as pd\n",
        "import seaborn as sns\n",
        "import matplotlib.pyplot as plt\n",
        "\n",
        "# Importando a biblioteca para carregar arquivos do drive\n",
        "from google.colab import drive\n",
        "\n",
        "# Importando a biblioteca para fazer a normalização\n",
        "from sklearn.preprocessing import StandardScaler\n",
        "\n",
        "# Separando em treino e teste\n",
        "from sklearn.model_selection import train_test_split\n",
        "\n",
        "# Importando bibliotecas para realização de gráficos\n",
        "from plotly.subplots import make_subplots\n",
        "import plotly.graph_objects as go\n",
        "import plotly.express as px\n",
        "\n",
        "# Importando as bibliotecas do modelo\n",
        "from sklearn.model_selection import RepeatedKFold\n",
        "from sklearn.ensemble import RandomForestClassifier\n",
        "from sklearn.linear_model import LogisticRegression\n",
        "import xgboost as xgb\n",
        "from sklearn.model_selection import GridSearchCV\n",
        "from sklearn.ensemble import VotingClassifier\n",
        "\n",
        "# Importando a biblioteca de métrica\n",
        "from sklearn.metrics import f1_score \n"
      ]
    },
    {
      "cell_type": "code",
      "execution_count": null,
      "metadata": {
        "id": "nzkPqVpJxfcU",
        "colab": {
          "base_uri": "https://localhost:8080/"
        },
        "outputId": "a4339024-3648-448f-dcc5-e8922f14bc0b"
      },
      "outputs": [
        {
          "output_type": "stream",
          "name": "stdout",
          "text": [
            "Drive already mounted at /content/drive; to attempt to forcibly remount, call drive.mount(\"/content/drive\", force_remount=True).\n"
          ]
        }
      ],
      "source": [
        "# Montando Google Drive\n",
        "drive.mount('/content/drive')\n",
        "caminho = '/content/drive/MyDrive/Dataset - projetos dados/QConcursos/'      "
      ]
    },
    {
      "cell_type": "code",
      "execution_count": null,
      "metadata": {
        "colab": {
          "base_uri": "https://localhost:8080/"
        },
        "id": "NmoyO5hSyCp6",
        "outputId": "b0425eba-acd6-4435-89d9-5e3d29cef071"
      },
      "outputs": [
        {
          "output_type": "stream",
          "name": "stderr",
          "text": [
            "/usr/local/lib/python3.8/dist-packages/IPython/core/interactiveshell.py:3326: DtypeWarning: Columns (9,10,12) have mixed types.Specify dtype option on import or set low_memory=False.\n",
            "  exec(code_obj, self.user_global_ns, self.user_ns)\n"
          ]
        }
      ],
      "source": [
        "# Lendo o arquivo de dados\n",
        "df_dataset = pd.read_csv(caminho+'Dataset_model.csv')\n",
        "df_subjects = pd.read_csv(caminho+'subjects_questions.csv')\n",
        "df_teste = pd.read_csv(caminho+'Submit.csv', delimiter=';')"
      ]
    },
    {
      "cell_type": "markdown",
      "metadata": {
        "id": "gq3shkMT4nrz"
      },
      "source": [
        "## 2. Análise dos dados\n",
        "\n",
        "Nesta etapa o objetivo é conhecer melhor os nossos dados para facilitar no entendimento do problema e na tomada de decisão"
      ]
    },
    {
      "cell_type": "code",
      "execution_count": null,
      "metadata": {
        "colab": {
          "base_uri": "https://localhost:8080/",
          "height": 404
        },
        "id": "OUljwRsI0A9P",
        "outputId": "d7a8c7c6-19ef-46ef-a1b1-027873d915f3"
      },
      "outputs": [
        {
          "output_type": "execute_result",
          "data": {
            "text/plain": [
              "   novo_user_id            city country        device  \\\n",
              "0             1  Rio de Janeiro  Brazil  Apple iPhone   \n",
              "1             1  Rio de Janeiro  Brazil  Apple iPhone   \n",
              "2             1  Rio de Janeiro  Brazil  Apple iPhone   \n",
              "3             1  Rio de Janeiro  Brazil  Apple iPhone   \n",
              "4             1  Rio de Janeiro  Brazil  Apple iPhone   \n",
              "\n",
              "               device_type          os platform          region  \\\n",
              "0  Apple iPhone 11 Pro Max  ios 15.4.1      iOS  Rio de Janeiro   \n",
              "1  Apple iPhone 11 Pro Max  ios 15.4.1      iOS  Rio de Janeiro   \n",
              "2  Apple iPhone 11 Pro Max  ios 15.4.1      iOS  Rio de Janeiro   \n",
              "3  Apple iPhone 11 Pro Max  ios 15.4.1      iOS  Rio de Janeiro   \n",
              "4  Apple iPhone 11 Pro Max  ios 15.4.1      iOS  Rio de Janeiro   \n",
              "\n",
              "                 gp:carrers gp:college type  ... institute_id  \\\n",
              "0  Tribunal, Administrativa             NaN  ...       4126.0   \n",
              "1  Tribunal, Administrativa             NaN  ...       4126.0   \n",
              "2  Tribunal, Administrativa             NaN  ...       4126.0   \n",
              "3  Tribunal, Administrativa             NaN  ...       4126.0   \n",
              "4  Tribunal, Administrativa             NaN  ...       4126.0   \n",
              "\n",
              "  knowledge_area_id modality_id nullified outdated  product_id  \\\n",
              "0              13.0         1.0       0.0      0.0         1.0   \n",
              "1              13.0         1.0       0.0      0.0         1.0   \n",
              "2              13.0         1.0       0.0      0.0         1.0   \n",
              "3              13.0         1.0       0.0      0.0         1.0   \n",
              "4              13.0         1.0       0.0      0.0         1.0   \n",
              "\n",
              "  publication_year  right_answer  scholarity_id  novo_question_id  \n",
              "0           2022.0             A            2.0            489400  \n",
              "1           2022.0             C            2.0            489399  \n",
              "2           2022.0             D            2.0            489398  \n",
              "3           2022.0             A            2.0            489397  \n",
              "4           2022.0             E            2.0            489396  \n",
              "\n",
              "[5 rows x 32 columns]"
            ],
            "text/html": [
              "\n",
              "  <div id=\"df-ee8a9eb5-bbe6-415b-9e59-586ed45f64e2\">\n",
              "    <div class=\"colab-df-container\">\n",
              "      <div>\n",
              "<style scoped>\n",
              "    .dataframe tbody tr th:only-of-type {\n",
              "        vertical-align: middle;\n",
              "    }\n",
              "\n",
              "    .dataframe tbody tr th {\n",
              "        vertical-align: top;\n",
              "    }\n",
              "\n",
              "    .dataframe thead th {\n",
              "        text-align: right;\n",
              "    }\n",
              "</style>\n",
              "<table border=\"1\" class=\"dataframe\">\n",
              "  <thead>\n",
              "    <tr style=\"text-align: right;\">\n",
              "      <th></th>\n",
              "      <th>novo_user_id</th>\n",
              "      <th>city</th>\n",
              "      <th>country</th>\n",
              "      <th>device</th>\n",
              "      <th>device_type</th>\n",
              "      <th>os</th>\n",
              "      <th>platform</th>\n",
              "      <th>region</th>\n",
              "      <th>gp:carrers</th>\n",
              "      <th>gp:college type</th>\n",
              "      <th>...</th>\n",
              "      <th>institute_id</th>\n",
              "      <th>knowledge_area_id</th>\n",
              "      <th>modality_id</th>\n",
              "      <th>nullified</th>\n",
              "      <th>outdated</th>\n",
              "      <th>product_id</th>\n",
              "      <th>publication_year</th>\n",
              "      <th>right_answer</th>\n",
              "      <th>scholarity_id</th>\n",
              "      <th>novo_question_id</th>\n",
              "    </tr>\n",
              "  </thead>\n",
              "  <tbody>\n",
              "    <tr>\n",
              "      <th>0</th>\n",
              "      <td>1</td>\n",
              "      <td>Rio de Janeiro</td>\n",
              "      <td>Brazil</td>\n",
              "      <td>Apple iPhone</td>\n",
              "      <td>Apple iPhone 11 Pro Max</td>\n",
              "      <td>ios 15.4.1</td>\n",
              "      <td>iOS</td>\n",
              "      <td>Rio de Janeiro</td>\n",
              "      <td>Tribunal, Administrativa</td>\n",
              "      <td>NaN</td>\n",
              "      <td>...</td>\n",
              "      <td>4126.0</td>\n",
              "      <td>13.0</td>\n",
              "      <td>1.0</td>\n",
              "      <td>0.0</td>\n",
              "      <td>0.0</td>\n",
              "      <td>1.0</td>\n",
              "      <td>2022.0</td>\n",
              "      <td>A</td>\n",
              "      <td>2.0</td>\n",
              "      <td>489400</td>\n",
              "    </tr>\n",
              "    <tr>\n",
              "      <th>1</th>\n",
              "      <td>1</td>\n",
              "      <td>Rio de Janeiro</td>\n",
              "      <td>Brazil</td>\n",
              "      <td>Apple iPhone</td>\n",
              "      <td>Apple iPhone 11 Pro Max</td>\n",
              "      <td>ios 15.4.1</td>\n",
              "      <td>iOS</td>\n",
              "      <td>Rio de Janeiro</td>\n",
              "      <td>Tribunal, Administrativa</td>\n",
              "      <td>NaN</td>\n",
              "      <td>...</td>\n",
              "      <td>4126.0</td>\n",
              "      <td>13.0</td>\n",
              "      <td>1.0</td>\n",
              "      <td>0.0</td>\n",
              "      <td>0.0</td>\n",
              "      <td>1.0</td>\n",
              "      <td>2022.0</td>\n",
              "      <td>C</td>\n",
              "      <td>2.0</td>\n",
              "      <td>489399</td>\n",
              "    </tr>\n",
              "    <tr>\n",
              "      <th>2</th>\n",
              "      <td>1</td>\n",
              "      <td>Rio de Janeiro</td>\n",
              "      <td>Brazil</td>\n",
              "      <td>Apple iPhone</td>\n",
              "      <td>Apple iPhone 11 Pro Max</td>\n",
              "      <td>ios 15.4.1</td>\n",
              "      <td>iOS</td>\n",
              "      <td>Rio de Janeiro</td>\n",
              "      <td>Tribunal, Administrativa</td>\n",
              "      <td>NaN</td>\n",
              "      <td>...</td>\n",
              "      <td>4126.0</td>\n",
              "      <td>13.0</td>\n",
              "      <td>1.0</td>\n",
              "      <td>0.0</td>\n",
              "      <td>0.0</td>\n",
              "      <td>1.0</td>\n",
              "      <td>2022.0</td>\n",
              "      <td>D</td>\n",
              "      <td>2.0</td>\n",
              "      <td>489398</td>\n",
              "    </tr>\n",
              "    <tr>\n",
              "      <th>3</th>\n",
              "      <td>1</td>\n",
              "      <td>Rio de Janeiro</td>\n",
              "      <td>Brazil</td>\n",
              "      <td>Apple iPhone</td>\n",
              "      <td>Apple iPhone 11 Pro Max</td>\n",
              "      <td>ios 15.4.1</td>\n",
              "      <td>iOS</td>\n",
              "      <td>Rio de Janeiro</td>\n",
              "      <td>Tribunal, Administrativa</td>\n",
              "      <td>NaN</td>\n",
              "      <td>...</td>\n",
              "      <td>4126.0</td>\n",
              "      <td>13.0</td>\n",
              "      <td>1.0</td>\n",
              "      <td>0.0</td>\n",
              "      <td>0.0</td>\n",
              "      <td>1.0</td>\n",
              "      <td>2022.0</td>\n",
              "      <td>A</td>\n",
              "      <td>2.0</td>\n",
              "      <td>489397</td>\n",
              "    </tr>\n",
              "    <tr>\n",
              "      <th>4</th>\n",
              "      <td>1</td>\n",
              "      <td>Rio de Janeiro</td>\n",
              "      <td>Brazil</td>\n",
              "      <td>Apple iPhone</td>\n",
              "      <td>Apple iPhone 11 Pro Max</td>\n",
              "      <td>ios 15.4.1</td>\n",
              "      <td>iOS</td>\n",
              "      <td>Rio de Janeiro</td>\n",
              "      <td>Tribunal, Administrativa</td>\n",
              "      <td>NaN</td>\n",
              "      <td>...</td>\n",
              "      <td>4126.0</td>\n",
              "      <td>13.0</td>\n",
              "      <td>1.0</td>\n",
              "      <td>0.0</td>\n",
              "      <td>0.0</td>\n",
              "      <td>1.0</td>\n",
              "      <td>2022.0</td>\n",
              "      <td>E</td>\n",
              "      <td>2.0</td>\n",
              "      <td>489396</td>\n",
              "    </tr>\n",
              "  </tbody>\n",
              "</table>\n",
              "<p>5 rows × 32 columns</p>\n",
              "</div>\n",
              "      <button class=\"colab-df-convert\" onclick=\"convertToInteractive('df-ee8a9eb5-bbe6-415b-9e59-586ed45f64e2')\"\n",
              "              title=\"Convert this dataframe to an interactive table.\"\n",
              "              style=\"display:none;\">\n",
              "        \n",
              "  <svg xmlns=\"http://www.w3.org/2000/svg\" height=\"24px\"viewBox=\"0 0 24 24\"\n",
              "       width=\"24px\">\n",
              "    <path d=\"M0 0h24v24H0V0z\" fill=\"none\"/>\n",
              "    <path d=\"M18.56 5.44l.94 2.06.94-2.06 2.06-.94-2.06-.94-.94-2.06-.94 2.06-2.06.94zm-11 1L8.5 8.5l.94-2.06 2.06-.94-2.06-.94L8.5 2.5l-.94 2.06-2.06.94zm10 10l.94 2.06.94-2.06 2.06-.94-2.06-.94-.94-2.06-.94 2.06-2.06.94z\"/><path d=\"M17.41 7.96l-1.37-1.37c-.4-.4-.92-.59-1.43-.59-.52 0-1.04.2-1.43.59L10.3 9.45l-7.72 7.72c-.78.78-.78 2.05 0 2.83L4 21.41c.39.39.9.59 1.41.59.51 0 1.02-.2 1.41-.59l7.78-7.78 2.81-2.81c.8-.78.8-2.07 0-2.86zM5.41 20L4 18.59l7.72-7.72 1.47 1.35L5.41 20z\"/>\n",
              "  </svg>\n",
              "      </button>\n",
              "      \n",
              "  <style>\n",
              "    .colab-df-container {\n",
              "      display:flex;\n",
              "      flex-wrap:wrap;\n",
              "      gap: 12px;\n",
              "    }\n",
              "\n",
              "    .colab-df-convert {\n",
              "      background-color: #E8F0FE;\n",
              "      border: none;\n",
              "      border-radius: 50%;\n",
              "      cursor: pointer;\n",
              "      display: none;\n",
              "      fill: #1967D2;\n",
              "      height: 32px;\n",
              "      padding: 0 0 0 0;\n",
              "      width: 32px;\n",
              "    }\n",
              "\n",
              "    .colab-df-convert:hover {\n",
              "      background-color: #E2EBFA;\n",
              "      box-shadow: 0px 1px 2px rgba(60, 64, 67, 0.3), 0px 1px 3px 1px rgba(60, 64, 67, 0.15);\n",
              "      fill: #174EA6;\n",
              "    }\n",
              "\n",
              "    [theme=dark] .colab-df-convert {\n",
              "      background-color: #3B4455;\n",
              "      fill: #D2E3FC;\n",
              "    }\n",
              "\n",
              "    [theme=dark] .colab-df-convert:hover {\n",
              "      background-color: #434B5C;\n",
              "      box-shadow: 0px 1px 3px 1px rgba(0, 0, 0, 0.15);\n",
              "      filter: drop-shadow(0px 1px 2px rgba(0, 0, 0, 0.3));\n",
              "      fill: #FFFFFF;\n",
              "    }\n",
              "  </style>\n",
              "\n",
              "      <script>\n",
              "        const buttonEl =\n",
              "          document.querySelector('#df-ee8a9eb5-bbe6-415b-9e59-586ed45f64e2 button.colab-df-convert');\n",
              "        buttonEl.style.display =\n",
              "          google.colab.kernel.accessAllowed ? 'block' : 'none';\n",
              "\n",
              "        async function convertToInteractive(key) {\n",
              "          const element = document.querySelector('#df-ee8a9eb5-bbe6-415b-9e59-586ed45f64e2');\n",
              "          const dataTable =\n",
              "            await google.colab.kernel.invokeFunction('convertToInteractive',\n",
              "                                                     [key], {});\n",
              "          if (!dataTable) return;\n",
              "\n",
              "          const docLinkHtml = 'Like what you see? Visit the ' +\n",
              "            '<a target=\"_blank\" href=https://colab.research.google.com/notebooks/data_table.ipynb>data table notebook</a>'\n",
              "            + ' to learn more about interactive tables.';\n",
              "          element.innerHTML = '';\n",
              "          dataTable['output_type'] = 'display_data';\n",
              "          await google.colab.output.renderOutput(dataTable, element);\n",
              "          const docLink = document.createElement('div');\n",
              "          docLink.innerHTML = docLinkHtml;\n",
              "          element.appendChild(docLink);\n",
              "        }\n",
              "      </script>\n",
              "    </div>\n",
              "  </div>\n",
              "  "
            ]
          },
          "metadata": {},
          "execution_count": 4
        }
      ],
      "source": [
        "# Olhando as primeiras linhas do arquivo\n",
        "df_dataset.head()"
      ]
    },
    {
      "cell_type": "code",
      "execution_count": null,
      "metadata": {
        "colab": {
          "base_uri": "https://localhost:8080/"
        },
        "id": "mSobIwot121A",
        "outputId": "33a3d416-1640-42f0-8b76-a22d102d237b"
      },
      "outputs": [
        {
          "output_type": "stream",
          "name": "stdout",
          "text": [
            "<class 'pandas.core.frame.DataFrame'>\n",
            "RangeIndex: 2000000 entries, 0 to 1999999\n",
            "Data columns (total 32 columns):\n",
            " #   Column                  Dtype  \n",
            "---  ------                  -----  \n",
            " 0   novo_user_id            int64  \n",
            " 1   city                    object \n",
            " 2   country                 object \n",
            " 3   device                  object \n",
            " 4   device_type             object \n",
            " 5   os                      object \n",
            " 6   platform                object \n",
            " 7   region                  object \n",
            " 8   gp:carrers              object \n",
            " 9   gp:college type         object \n",
            " 10  gp:degree course        object \n",
            " 11  gp:previous experience  object \n",
            " 12  gp:school type          object \n",
            " 13  gp:segment              object \n",
            " 14  gp:source_project       object \n",
            " 15  acertou                 int64  \n",
            " 16  created_at              object \n",
            " 17  row                     int64  \n",
            " 18  commented_by_professor  float64\n",
            " 19  difficulty              float64\n",
            " 20  discipline_id           float64\n",
            " 21  examining_board_id      float64\n",
            " 22  institute_id            float64\n",
            " 23  knowledge_area_id       float64\n",
            " 24  modality_id             float64\n",
            " 25  nullified               float64\n",
            " 26  outdated                float64\n",
            " 27  product_id              float64\n",
            " 28  publication_year        float64\n",
            " 29  right_answer            object \n",
            " 30  scholarity_id           float64\n",
            " 31  novo_question_id        int64  \n",
            "dtypes: float64(12), int64(4), object(16)\n",
            "memory usage: 488.3+ MB\n"
          ]
        }
      ],
      "source": [
        "# olhando algumas informações como o tipo de cada coluna\n",
        "df_dataset.info()"
      ]
    },
    {
      "cell_type": "code",
      "execution_count": null,
      "metadata": {
        "colab": {
          "base_uri": "https://localhost:8080/"
        },
        "id": "paiDjqGErslJ",
        "outputId": "e67acf11-7b76-48a3-825f-15d3f565a9ed"
      },
      "outputs": [
        {
          "output_type": "execute_result",
          "data": {
            "text/plain": [
              "gp:school type            1997500\n",
              "gp:degree course          1997500\n",
              "gp:college type           1997500\n",
              "gp:previous experience    1052200\n",
              "device_type                163200\n",
              "city                       142400\n",
              "gp:carrers                 116900\n",
              "device                      71600\n",
              "gp:source_project           38000\n",
              "gp:segment                  35200\n",
              "region                      13700\n",
              "platform                    13200\n",
              "os                          13200\n",
              "country                     13200\n",
              "difficulty                   2629\n",
              "publication_year              187\n",
              "institute_id                  182\n",
              "examining_board_id            182\n",
              "outdated                      178\n",
              "nullified                     178\n",
              "modality_id                   178\n",
              "knowledge_area_id             178\n",
              "product_id                    178\n",
              "discipline_id                 178\n",
              "commented_by_professor        178\n",
              "right_answer                  178\n",
              "scholarity_id                 178\n",
              "novo_user_id                    0\n",
              "created_at                      0\n",
              "row                             0\n",
              "acertou                         0\n",
              "novo_question_id                0\n",
              "dtype: int64"
            ]
          },
          "metadata": {},
          "execution_count": 6
        }
      ],
      "source": [
        "# olhando os dados nulos\n",
        "df_dataset.isnull().sum().sort_values(ascending=False)"
      ]
    },
    {
      "cell_type": "code",
      "execution_count": null,
      "metadata": {
        "colab": {
          "base_uri": "https://localhost:8080/"
        },
        "id": "aq26PXis2CiW",
        "outputId": "eac81346-62c4-45d3-daae-63927020784e"
      },
      "outputs": [
        {
          "output_type": "execute_result",
          "data": {
            "text/plain": [
              "1        100\n",
              "12       100\n",
              "5        100\n",
              "6        100\n",
              "7        100\n",
              "        ... \n",
              "19997    100\n",
              "19998    100\n",
              "19999    100\n",
              "19984    100\n",
              "20000    100\n",
              "Name: novo_user_id, Length: 20000, dtype: int64"
            ]
          },
          "metadata": {},
          "execution_count": 7
        }
      ],
      "source": [
        "#Vemos que temos 20000 pessoas diferentes\n",
        "df_dataset['novo_user_id'].value_counts().sort_values(ascending=False)"
      ]
    },
    {
      "cell_type": "code",
      "execution_count": null,
      "metadata": {
        "colab": {
          "base_uri": "https://localhost:8080/"
        },
        "id": "IcTBqS3aviWn",
        "outputId": "7bf09996-7e78-47b0-8ce1-c0535f2dce69"
      },
      "outputs": [
        {
          "output_type": "execute_result",
          "data": {
            "text/plain": [
              "Brasília          167300\n",
              "Rio de Janeiro    112100\n",
              "São Paulo         108100\n",
              "Fortaleza          69300\n",
              "Manaus             50000\n",
              "                   ...  \n",
              "Campo Largo          100\n",
              "Tambau               100\n",
              "Itagi                100\n",
              "Brasileira           100\n",
              "Boraceia             100\n",
              "Name: city, Length: 1799, dtype: int64"
            ]
          },
          "metadata": {},
          "execution_count": 8
        }
      ],
      "source": [
        "# Temos diferentes cidades, é interessante notar que as principais cidades que são clientes da Qconcurso, são Brasília, Rio de Janeiro e São Paulo\n",
        "# Porém parece que essa informação no primeiro momento não será tão importante pro modelo, além de ter muitas cidades diferentes (1799 ao todo), podendo ser prejudicial ao tempo rquerido\n",
        "df_dataset['city'].value_counts().sort_values(ascending=False)"
      ]
    },
    {
      "cell_type": "code",
      "execution_count": null,
      "metadata": {
        "colab": {
          "base_uri": "https://localhost:8080/"
        },
        "id": "g1C4aU2vwarW",
        "outputId": "c84c18cd-e568-4ad3-b921-ea4039b7bfe3"
      },
      "outputs": [
        {
          "output_type": "execute_result",
          "data": {
            "text/plain": [
              "Brazil                  1983600\n",
              "United States               800\n",
              "Portugal                    300\n",
              "Switzerland                 300\n",
              "Spain                       200\n",
              "Argentina                   200\n",
              "Australia                   200\n",
              "Netherlands                 200\n",
              "Bolivia                     100\n",
              "France                      100\n",
              "Angola                      100\n",
              "Mexico                      100\n",
              "Germany                     100\n",
              "United Arab Emirates        100\n",
              "Sweden                      100\n",
              "Canada                      100\n",
              "Colombia                    100\n",
              "Denmark                     100\n",
              "Name: country, dtype: int64"
            ]
          },
          "metadata": {},
          "execution_count": 9
        }
      ],
      "source": [
        "# o brasil domina a amostra, talvez faça sentido dividir entre brasil e exterior\n",
        "# porém mesmo fazendo isso a diferença da quantidade é muito grande e provavelmente não vai ser bom pro modelo\n",
        "df_dataset['country'].value_counts().sort_values(ascending=False)"
      ]
    },
    {
      "cell_type": "code",
      "execution_count": null,
      "metadata": {
        "colab": {
          "base_uri": "https://localhost:8080/"
        },
        "id": "nmTpXoq1zmGE",
        "outputId": "ba6990b4-0bc2-493d-98d4-93b87e9f44fe"
      },
      "outputs": [
        {
          "output_type": "execute_result",
          "data": {
            "text/plain": [
              "Windows                 1139600\n",
              "Apple iPhone             166100\n",
              "Samsung Phone            130300\n",
              "Motorola Phone           102400\n",
              "Samsung Galaxy Phone      93400\n",
              "                         ...   \n",
              "LG LM-X120                  100\n",
              "ATM EastAeon R5Plus         100\n",
              "HIT P10a                    100\n",
              "RMX3231                     100\n",
              "Amazon KFMAWI               100\n",
              "Name: device, Length: 217, dtype: int64"
            ]
          },
          "metadata": {},
          "execution_count": 10
        }
      ],
      "source": [
        "# São muito aparelhos diferentes \n",
        "# Não aparenta ter uma relação clara\n",
        "df_dataset['device'].value_counts().sort_values(ascending=False)"
      ]
    },
    {
      "cell_type": "code",
      "execution_count": null,
      "metadata": {
        "colab": {
          "base_uri": "https://localhost:8080/"
        },
        "id": "OnjtJPbr0Exi",
        "outputId": "186891c6-7d63-46b3-83e8-82e7e10cd499"
      },
      "outputs": [
        {
          "output_type": "execute_result",
          "data": {
            "text/plain": [
              "Windows                       1139600\n",
              "Mac                             46500\n",
              "Apple iPhone                    41800\n",
              "Apple iPhone 11                 25000\n",
              "Samsung Galaxy Tab S6 Lite      15800\n",
              "                               ...   \n",
              "Motorola moto e5                  100\n",
              "Realme C15                        100\n",
              "Samsung Galaxy View               100\n",
              "Samsung Galaxy S4                 100\n",
              "Multilaser MS50L                  100\n",
              "Name: device_type, Length: 394, dtype: int64"
            ]
          },
          "metadata": {},
          "execution_count": 11
        }
      ],
      "source": [
        "# São muito aparelhos diferentes \n",
        "# Não aparenta ter uma relação clara\n",
        "df_dataset['device_type'].value_counts().sort_values(ascending=False)"
      ]
    },
    {
      "cell_type": "code",
      "execution_count": null,
      "metadata": {
        "colab": {
          "base_uri": "https://localhost:8080/"
        },
        "id": "liYfCLxc0akq",
        "outputId": "c26728b1-ca7b-4ce2-9f61-5679075ee16e"
      },
      "outputs": [
        {
          "output_type": "execute_result",
          "data": {
            "text/plain": [
              "Chrome 103            482900\n",
              "Chrome 104            432400\n",
              "Chrome 102            127900\n",
              "android 11            104000\n",
              "android 10             66800\n",
              "                       ...  \n",
              "Chrome 68                100\n",
              "Chrome WebView 101       100\n",
              "Samsung Browser 10       100\n",
              "Instagram 244            100\n",
              "Opera 69                 100\n",
              "Name: os, Length: 231, dtype: int64"
            ]
          },
          "metadata": {},
          "execution_count": 12
        }
      ],
      "source": [
        "# São muito aparelhos diferentes \n",
        "# Não aparenta ter uma relação clara\n",
        "df_dataset['os'].value_counts().sort_values(ascending=False)"
      ]
    },
    {
      "cell_type": "code",
      "execution_count": null,
      "metadata": {
        "colab": {
          "base_uri": "https://localhost:8080/"
        },
        "id": "N9RimFSW0vGC",
        "outputId": "e06fbfa4-19e5-423f-f8f1-f75ad499092d"
      },
      "outputs": [
        {
          "output_type": "execute_result",
          "data": {
            "text/plain": [
              "Web        1597200\n",
              "Android     282200\n",
              "iOS         107400\n",
              "Name: platform, dtype: int64"
            ]
          },
          "metadata": {},
          "execution_count": 13
        }
      ],
      "source": [
        "# Pode ser um dado relevante\n",
        "df_dataset['platform'].value_counts().sort_values(ascending=False)"
      ]
    },
    {
      "cell_type": "code",
      "execution_count": null,
      "metadata": {
        "colab": {
          "base_uri": "https://localhost:8080/",
          "height": 508
        },
        "id": "ktINu-FV2gT2",
        "outputId": "46bf1f1e-495a-4cde-9557-26678169b216"
      },
      "outputs": [
        {
          "output_type": "display_data",
          "data": {
            "text/plain": [
              "<Figure size 1080x576 with 1 Axes>"
            ],
            "image/png": "[encoded data removed]"
          },
          "metadata": {
            "needs_background": "light"
          }
        }
      ],
      "source": [
        "# Parece que os erros ocorrem na mesma proporção\n",
        "# Também posso tentar diferenciar em WEb e outros(IOS + android)\n",
        "plt.subplots(figsize=(15,8))\n",
        "sns.histplot(data = df_dataset, x = df_dataset['platform'], hue = 'acertou')\n",
        "plt.show()"
      ]
    },
    {
      "cell_type": "code",
      "execution_count": null,
      "metadata": {
        "colab": {
          "base_uri": "https://localhost:8080/"
        },
        "id": "WPajfglN1WCT",
        "outputId": "35b31162-2268-48cd-8fe5-51b3748997e8"
      },
      "outputs": [
        {
          "output_type": "execute_result",
          "data": {
            "text/plain": [
              "Sao Paulo              251700\n",
              "Rio de Janeiro         204200\n",
              "Federal District       179900\n",
              "Minas Gerais           154100\n",
              "Ceara                  120100\n",
              "Bahia                  119300\n",
              "Pernambuco             106900\n",
              "Rio Grande do Sul       92400\n",
              "Goias                   91100\n",
              "Parana                  64000\n",
              "Santa Catarina          60200\n",
              "Amazonas                59300\n",
              "Paraíba                 58500\n",
              "Para                    51200\n",
              "Piaui                   46800\n",
              "Rio Grande do Norte     41800\n",
              "Alagoas                 36500\n",
              "Maranhao                35800\n",
              "Espirito Santo          34800\n",
              "Mato Grosso             31400\n",
              "Mato Grosso do Sul      27900\n",
              "Rondonia                26800\n",
              "Sergipe                 26600\n",
              "Amapa                   25300\n",
              "Tocantins               16300\n",
              "Acre                    11300\n",
              "Roraima                  9500\n",
              "Florida                   200\n",
              "Victoria                  200\n",
              "North Holland             200\n",
              "Dubai                     100\n",
              "Geneva                    100\n",
              "Barcelona                 100\n",
              "Texas                     100\n",
              "Cordoba                   100\n",
              "North Denmark             100\n",
              "Madrid                    100\n",
              "Ontario                   100\n",
              "Zurich                    100\n",
              "Massachusetts             100\n",
              "Land Berlin               100\n",
              "Zug                       100\n",
              "Porto                     100\n",
              "Meurthe et Moselle        100\n",
              "Buenos Aires              100\n",
              "Faro                      100\n",
              "Luanda Province           100\n",
              "Mexico City               100\n",
              "El Beni                   100\n",
              "Lisbon                    100\n",
              "Name: region, dtype: int64"
            ]
          },
          "metadata": {},
          "execution_count": 15
        }
      ],
      "source": [
        "# Regiões de alunos com maior número de questões\n",
        "df_dataset['region'].value_counts().sort_values(ascending=False)"
      ]
    },
    {
      "cell_type": "code",
      "execution_count": null,
      "metadata": {
        "colab": {
          "base_uri": "https://localhost:8080/",
          "height": 589
        },
        "id": "JxD1jzFg1fpA",
        "outputId": "8e96e341-c524-4d66-fae3-938ff25a7ff6"
      },
      "outputs": [
        {
          "output_type": "display_data",
          "data": {
            "text/plain": [
              "<Figure size 1080x576 with 1 Axes>"
            ],
            "image/png": "[encoded data removed]"
          },
          "metadata": {
            "needs_background": "light"
          }
        }
      ],
      "source": [
        "# Vemos que as diferentes regiões podem influenciar\n",
        "plt.subplots(figsize=(15,8))\n",
        "sns.histplot(data = df_dataset, x = df_dataset['region'], hue = 'acertou')\n",
        "plt.xticks(rotation = 90)\n",
        "plt.show()"
      ]
    },
    {
      "cell_type": "code",
      "execution_count": null,
      "metadata": {
        "colab": {
          "base_uri": "https://localhost:8080/"
        },
        "id": "YblAqWfR10pY",
        "outputId": "4cd87a62-b5fb-4d7e-9d58-596fb28414d7"
      },
      "outputs": [
        {
          "output_type": "execute_result",
          "data": {
            "text/plain": [
              "Policial                                                                                                         486700\n",
              "Jurídica                                                                                                         165500\n",
              "Outras                                                                                                           135700\n",
              "Tribunal                                                                                                         121500\n",
              "Administrativa                                                                                                    84200\n",
              "                                                                                                                  ...  \n",
              "Policial, Jurídica, Policial                                                                                        100\n",
              "Educação, Tribunal, Administrativa, Legislativa                                                                     100\n",
              "Policial, Tribunal, Controle e Gestão, Fiscal, Legislativa, Administrativa, Saúde, Jurídica, Educação, Outras       100\n",
              "Jurídica, Administrativa, Legislativa, Tribunal, Policial, Bancária, Educação, Outras                               100\n",
              "Administrativa, Legislativa, Tribunal, Fiscal, Bancária, Policial, Outras                                           100\n",
              "Name: gp:carrers, Length: 1451, dtype: int64"
            ]
          },
          "metadata": {},
          "execution_count": 17
        }
      ],
      "source": [
        "# No primeiro momento pode ser um dado relevante vamos manter\n",
        "df_dataset['gp:carrers'].value_counts().sort_values(ascending=False)"
      ]
    },
    {
      "cell_type": "code",
      "execution_count": null,
      "metadata": {
        "colab": {
          "base_uri": "https://localhost:8080/"
        },
        "id": "5_c-k-Gm2NkU",
        "outputId": "3fd3c1f7-73c6-410e-fc3e-35c5533a4772"
      },
      "outputs": [
        {
          "output_type": "execute_result",
          "data": {
            "text/plain": [
              "[\"Pública\"]    1900\n",
              "[\"Privada\"]     600\n",
              "Name: gp:college type, dtype: int64"
            ]
          },
          "metadata": {},
          "execution_count": 18
        }
      ],
      "source": [
        "# Apenas 2500 dados para essa coluna, poucos dados, melhor excluir\n",
        "df_dataset['gp:college type'].value_counts().sort_values(ascending=False)"
      ]
    },
    {
      "cell_type": "code",
      "execution_count": null,
      "metadata": {
        "colab": {
          "base_uri": "https://localhost:8080/",
          "height": 406
        },
        "id": "qIQDo11m21c9",
        "outputId": "e0017c5b-2d29-4b2e-9606-b4b890d57eb7"
      },
      "outputs": [
        {
          "output_type": "execute_result",
          "data": {
            "text/plain": [
              "<matplotlib.axes._subplots.AxesSubplot at 0x7f18171be520>"
            ]
          },
          "metadata": {},
          "execution_count": 19
        },
        {
          "output_type": "display_data",
          "data": {
            "text/plain": [
              "<Figure size 432x288 with 2 Axes>"
            ],
            "image/png": "[encoded data removed]"
          },
          "metadata": {
            "needs_background": "light"
          }
        }
      ],
      "source": [
        "# Vemos que realmente essacoluna está com muitos dados faltantes\n",
        "sns.heatmap(df_dataset.isnull())"
      ]
    },
    {
      "cell_type": "code",
      "execution_count": null,
      "metadata": {
        "colab": {
          "base_uri": "https://localhost:8080/"
        },
        "id": "RsSgLLhI3pEP",
        "outputId": "1a00b64c-8e27-4973-a381-80691d89e978"
      },
      "outputs": [
        {
          "output_type": "execute_result",
          "data": {
            "text/plain": [
              "[\"ADMINISTRACAO\"]                                                    700\n",
              "[\"DIREITO\"]                                                          300\n",
              "[\"MEDICINA\"]                                                         200\n",
              "[\"ADMINISTRACAO\",\"ANALISE E DESENVOLVIMENTO DE SISTEMAS\"]            100\n",
              "[\"QUIMICA\"]                                                          100\n",
              "[\"JORNALISMO\"]                                                       100\n",
              "[\"ANALISE E DESENVOLVIMENTO DE SISTEMAS\"]                            100\n",
              "[\"CIENCIAS CONTABEIS\"]                                               100\n",
              "[\"ADMINISTRACAO\",\"PEDAGOGIA\",\"LETRAS - LINGUA PORTUGUESA\"]           100\n",
              "[\"ANALISE E DESENVOLVIMENTO DE SISTEMAS\",\"ADMINISTRACAO PUBLICA\"]    100\n",
              "[\"ODONTOLOGIA\"]                                                      100\n",
              "[\"GESTAO DE SEGURANCA PRIVADA\"]                                      100\n",
              "[\"ENFERMAGEM\",\"MEDICINA\",\"ODONTOLOGIA\"]                              100\n",
              "[\"CIENCIAS BIOLOGICAS\"]                                              100\n",
              "[\"RELACOES INTERNACIONAIS\",\"DIREITO\"]                                100\n",
              "[\"ENFERMAGEM\"]                                                       100\n",
              "Name: gp:degree course, dtype: int64"
            ]
          },
          "metadata": {},
          "execution_count": 20
        }
      ],
      "source": [
        "# Esse também possui muitos dados faltantes\n",
        "df_dataset['gp:degree course'].value_counts().sort_values(ascending=False)"
      ]
    },
    {
      "cell_type": "code",
      "execution_count": null,
      "metadata": {
        "colab": {
          "base_uri": "https://localhost:8080/"
        },
        "id": "Q1T7hBrV3_Bp",
        "outputId": "e39c30b0-9153-4ffd-9027-bbec7cfb03ee"
      },
      "outputs": [
        {
          "output_type": "execute_result",
          "data": {
            "text/plain": [
              "beginner            546200\n",
              "experient           270900\n",
              "professional         93200\n",
              "highly_experient     37500\n",
              "Name: gp:previous experience, dtype: int64"
            ]
          },
          "metadata": {},
          "execution_count": 21
        }
      ],
      "source": [
        "# Este parece ser um dos dados mais relevantes\n",
        "df_dataset['gp:previous experience'].value_counts().sort_values(ascending=False)"
      ]
    },
    {
      "cell_type": "code",
      "execution_count": null,
      "metadata": {
        "colab": {
          "base_uri": "https://localhost:8080/"
        },
        "id": "OTVzgibi4mH-",
        "outputId": "702358e4-20a3-4968-9c29-a73073d03508"
      },
      "outputs": [
        {
          "output_type": "execute_result",
          "data": {
            "text/plain": [
              "[\"Escola Pública\"]                                      1100\n",
              "[\"Estudo por conta própria\"]                             600\n",
              "[\"Cursinho Preparatório\"]                                300\n",
              "[\"Escola Privada\"]                                       300\n",
              "[\"Escola Privada\",\"Escola Pública\"]                      100\n",
              "[\"Estudo por conta própria\",\"Cursinho Preparatório\"]     100\n",
              "Name: gp:school type, dtype: int64"
            ]
          },
          "metadata": {},
          "execution_count": 22
        }
      ],
      "source": [
        "# Muitos dados faltantes também\n",
        "df_dataset['gp:school type'].value_counts().sort_values(ascending=False)"
      ]
    },
    {
      "cell_type": "code",
      "execution_count": null,
      "metadata": {
        "colab": {
          "base_uri": "https://localhost:8080/"
        },
        "id": "Xe5Af7sS8Ww0",
        "outputId": "f8a06d4a-698a-4d8f-99b0-2f5315d693eb"
      },
      "outputs": [
        {
          "output_type": "execute_result",
          "data": {
            "text/plain": [
              "Concurso Público    1889800\n",
              "Concurso Militar      74200\n",
              "OAB                     600\n",
              "Enem                    200\n",
              "Name: gp:segment, dtype: int64"
            ]
          },
          "metadata": {},
          "execution_count": 23
        }
      ],
      "source": [
        "# Talvez faça sentido manter, parece que tem relevancia pois as questões de concurso militar ser mais dificil que Enem por exemplo\n",
        "df_dataset['gp:segment'].value_counts().sort_values(ascending=False)"
      ]
    },
    {
      "cell_type": "code",
      "execution_count": null,
      "metadata": {
        "colab": {
          "base_uri": "https://localhost:8080/",
          "height": 508
        },
        "id": "3degea_iBlXk",
        "outputId": "e84fa916-eeda-4d94-9a85-d31adf3acb40"
      },
      "outputs": [
        {
          "output_type": "display_data",
          "data": {
            "text/plain": [
              "<Figure size 1080x576 with 1 Axes>"
            ],
            "image/png": "[encoded data removed]"
          },
          "metadata": {
            "needs_background": "light"
          }
        }
      ],
      "source": [
        "# Fazendo o gráfico do segmento\n",
        "plt.subplots(figsize=(15,8))\n",
        "sns.histplot(data = df_dataset, x = df_dataset['gp:segment'], hue = 'acertou')\n",
        "plt.show()"
      ]
    },
    {
      "cell_type": "code",
      "execution_count": null,
      "metadata": {
        "colab": {
          "base_uri": "https://localhost:8080/"
        },
        "id": "sWAUz9T080Zk",
        "outputId": "e78b5295-cb32-4943-e24e-cb200be17d3b"
      },
      "outputs": [
        {
          "output_type": "execute_result",
          "data": {
            "text/plain": [
              "odin    1728500\n",
              "ils      233500\n",
              "Name: gp:source_project, dtype: int64"
            ]
          },
          "metadata": {},
          "execution_count": 25
        }
      ],
      "source": [
        "# Essa é a preferencia do usuario\n",
        "df_dataset['gp:source_project'].value_counts().sort_values(ascending=False)"
      ]
    },
    {
      "cell_type": "code",
      "execution_count": null,
      "metadata": {
        "colab": {
          "base_uri": "https://localhost:8080/"
        },
        "id": "WV7B26jk99KX",
        "outputId": "d1a72cdf-2ecf-4a33-d897-98b9b85a1c38"
      },
      "outputs": [
        {
          "output_type": "execute_result",
          "data": {
            "text/plain": [
              "1    1308561\n",
              "0     691439\n",
              "Name: acertou, dtype: int64"
            ]
          },
          "metadata": {},
          "execution_count": 26
        }
      ],
      "source": [
        "# A maioria das questões são acertadas\n",
        "df_dataset['acertou'].value_counts().sort_values(ascending=False)"
      ]
    },
    {
      "cell_type": "code",
      "execution_count": null,
      "metadata": {
        "colab": {
          "base_uri": "https://localhost:8080/"
        },
        "id": "oY4Uo_xx-Rat",
        "outputId": "42414e92-ad94-4dda-aae7-e1e1deb48852"
      },
      "outputs": [
        {
          "output_type": "execute_result",
          "data": {
            "text/plain": [
              "1999799    2022-08-12 21:53:33\n",
              "1999798    2022-08-12 21:52:51\n",
              "1999797    2022-08-12 21:52:21\n",
              "1999796    2022-08-12 21:51:31\n",
              "1999795    2022-08-12 21:51:05\n",
              "                  ...         \n",
              "1704       2008-06-11 06:02:14\n",
              "1703       2008-06-11 06:02:10\n",
              "1702       2008-06-11 06:02:05\n",
              "1701       2008-06-11 06:01:47\n",
              "1700       2008-06-11 06:00:54\n",
              "Name: created_at, Length: 2000000, dtype: object"
            ]
          },
          "metadata": {},
          "execution_count": 27
        }
      ],
      "source": [
        "# Será que a data influencia? teoricamente se a questão for nova é provavalemnte que pouca gente tenha visto e é mais fácil errar\n",
        "df_dataset['created_at'].sort_values(ascending=False)"
      ]
    },
    {
      "cell_type": "code",
      "execution_count": null,
      "metadata": {
        "colab": {
          "base_uri": "https://localhost:8080/"
        },
        "id": "dPBL1eno_IXT",
        "outputId": "e8a971ad-c4fb-4435-8207-f07366098710"
      },
      "outputs": [
        {
          "output_type": "execute_result",
          "data": {
            "text/plain": [
              "1      20000\n",
              "13     20000\n",
              "3      20000\n",
              "4      20000\n",
              "5      20000\n",
              "       ...  \n",
              "97     20000\n",
              "98     20000\n",
              "99     20000\n",
              "78     20000\n",
              "100    20000\n",
              "Name: row, Length: 100, dtype: int64"
            ]
          },
          "metadata": {},
          "execution_count": 28
        }
      ],
      "source": [
        "# Verificando a quantidade questôes por linhas\n",
        "df_dataset['row'].value_counts().sort_values(ascending=False)"
      ]
    },
    {
      "cell_type": "code",
      "execution_count": null,
      "metadata": {
        "colab": {
          "base_uri": "https://localhost:8080/",
          "height": 498
        },
        "id": "BmuRlYn49Ixx",
        "outputId": "7aacd889-dbeb-4f68-b5f6-4554c944f8a7"
      },
      "outputs": [
        {
          "output_type": "display_data",
          "data": {
            "text/plain": [
              "<Figure size 1080x576 with 1 Axes>"
            ],
            "image/png": "[encoded data removed]"
          },
          "metadata": {
            "needs_background": "light"
          }
        }
      ],
      "source": [
        "# Plotando o gráfico vemos que aumentando a linha temos uma tendencia de alta\n",
        "plt.subplots(figsize=(15,8))\n",
        "sns.histplot(data = df_dataset, x = df_dataset['row'], hue = 'acertou')\n",
        "plt.show()"
      ]
    },
    {
      "cell_type": "code",
      "execution_count": null,
      "metadata": {
        "colab": {
          "base_uri": "https://localhost:8080/"
        },
        "id": "-fqSG2Jw__vK",
        "outputId": "d8642bdd-65ca-4e30-a0c5-6db45568db13"
      },
      "outputs": [
        {
          "output_type": "execute_result",
          "data": {
            "text/plain": [
              "1.0    1107123\n",
              "0.0     892699\n",
              "Name: commented_by_professor, dtype: int64"
            ]
          },
          "metadata": {},
          "execution_count": 30
        }
      ],
      "source": [
        "df_dataset['commented_by_professor'].value_counts().sort_values(ascending=False)"
      ]
    },
    {
      "cell_type": "code",
      "execution_count": null,
      "metadata": {
        "colab": {
          "base_uri": "https://localhost:8080/",
          "height": 498
        },
        "id": "JavPjSaOAKiJ",
        "outputId": "a245b7ce-46e0-473b-b6e0-b155b1591d20"
      },
      "outputs": [
        {
          "output_type": "display_data",
          "data": {
            "text/plain": [
              "<Figure size 1080x576 with 1 Axes>"
            ],
            "image/png": "[encoded data removed]"
          },
          "metadata": {
            "needs_background": "light"
          }
        }
      ],
      "source": [
        "# Não tem tanta diferença entre os acertos em questôes que o professor comenta ou não\n",
        "plt.subplots(figsize=(15,8))\n",
        "sns.histplot(data = df_dataset, x = df_dataset['commented_by_professor'], hue = 'acertou')\n",
        "plt.show()"
      ]
    },
    {
      "cell_type": "code",
      "execution_count": null,
      "metadata": {
        "colab": {
          "base_uri": "https://localhost:8080/"
        },
        "id": "2XR8yZGnAYlx",
        "outputId": "f026d323-f3d8-4aca-e01e-897e715b9358"
      },
      "outputs": [
        {
          "output_type": "execute_result",
          "data": {
            "text/plain": [
              "2.0    804260\n",
              "1.0    640501\n",
              "3.0    465835\n",
              "4.0     85528\n",
              "5.0      1247\n",
              "Name: difficulty, dtype: int64"
            ]
          },
          "metadata": {},
          "execution_count": 32
        }
      ],
      "source": [
        "# Esta parece ser uma variável muito importante\n",
        "df_dataset['difficulty'].value_counts().sort_values(ascending=False)"
      ]
    },
    {
      "cell_type": "code",
      "execution_count": null,
      "metadata": {
        "colab": {
          "base_uri": "https://localhost:8080/",
          "height": 497
        },
        "id": "w5BrEdvlAlJH",
        "outputId": "f6b77d74-61c4-4430-a9ac-43c851bf31de"
      },
      "outputs": [
        {
          "output_type": "display_data",
          "data": {
            "text/plain": [
              "<Figure size 1080x576 with 1 Axes>"
            ],
            "image/png": "[encoded data removed]"
          },
          "metadata": {
            "needs_background": "light"
          }
        }
      ],
      "source": [
        "# Plotando o gráfico da quantidade de questões por nivel de dificuldade e se acartam ou não\n",
        "plt.subplots(figsize=(15,8))\n",
        "sns.histplot(data = df_dataset, x = df_dataset['difficulty'], hue = 'acertou')\n",
        "plt.show()"
      ]
    },
    {
      "cell_type": "code",
      "execution_count": null,
      "metadata": {
        "colab": {
          "base_uri": "https://localhost:8080/"
        },
        "id": "6VX35I5nBX11",
        "outputId": "c787e1a1-4825-49a4-c7f4-8ca48e11939f"
      },
      "outputs": [
        {
          "output_type": "execute_result",
          "data": {
            "text/plain": [
              "1.0      306971\n",
              "3.0      255943\n",
              "2.0      200228\n",
              "9.0      183573\n",
              "46.0      95535\n",
              "          ...  \n",
              "226.0         2\n",
              "416.0         1\n",
              "427.0         1\n",
              "590.0         1\n",
              "293.0         1\n",
              "Name: discipline_id, Length: 225, dtype: int64"
            ]
          },
          "metadata": {},
          "execution_count": 34
        }
      ],
      "source": [
        "df_dataset['discipline_id'].value_counts().sort_values(ascending=False)"
      ]
    },
    {
      "cell_type": "code",
      "execution_count": null,
      "metadata": {
        "colab": {
          "base_uri": "https://localhost:8080/"
        },
        "id": "ca8bleAYCQpS",
        "outputId": "8e105904-c11a-408b-8408-1ced4e2ad38c"
      },
      "outputs": [
        {
          "output_type": "execute_result",
          "data": {
            "text/plain": [
              "2.0       586039\n",
              "1.0       185138\n",
              "63.0      169544\n",
              "152.0     167605\n",
              "189.0      59440\n",
              "           ...  \n",
              "2637.0         1\n",
              "2664.0         1\n",
              "177.0          1\n",
              "409.0          1\n",
              "2452.0         1\n",
              "Name: examining_board_id, Length: 580, dtype: int64"
            ]
          },
          "metadata": {},
          "execution_count": 35
        }
      ],
      "source": [
        "# Banca da questão\n",
        "df_dataset['examining_board_id'].value_counts().sort_values(ascending=False)"
      ]
    },
    {
      "cell_type": "code",
      "execution_count": null,
      "metadata": {
        "colab": {
          "base_uri": "https://localhost:8080/"
        },
        "id": "NEQeIkFVC4Cg",
        "outputId": "2b4550b4-36d4-48d2-9b60-71e3ee10a81d"
      },
      "outputs": [
        {
          "output_type": "execute_result",
          "data": {
            "text/plain": [
              "6152.0    40932\n",
              "36.0      35730\n",
              "5713.0    28962\n",
              "123.0     25676\n",
              "6281.0    23470\n",
              "          ...  \n",
              "9451.0        1\n",
              "7459.0        1\n",
              "1897.0        1\n",
              "7334.0        1\n",
              "2070.0        1\n",
              "Name: institute_id, Length: 3099, dtype: int64"
            ]
          },
          "metadata": {},
          "execution_count": 36
        }
      ],
      "source": [
        "df_dataset['institute_id'].value_counts().sort_values(ascending=False)"
      ]
    },
    {
      "cell_type": "code",
      "execution_count": null,
      "metadata": {
        "colab": {
          "base_uri": "https://localhost:8080/"
        },
        "id": "dbP8TTc5DL7P",
        "outputId": "523cc88a-0b39-40b0-c359-08326def6957"
      },
      "outputs": [
        {
          "output_type": "execute_result",
          "data": {
            "text/plain": [
              "9.0      1111882\n",
              "14.0      321206\n",
              "13.0      114349\n",
              "15.0       80547\n",
              "2.0        68760\n",
              "          ...   \n",
              "299.0          2\n",
              "276.0          1\n",
              "165.0          1\n",
              "208.0          1\n",
              "323.0          1\n",
              "Name: knowledge_area_id, Length: 94, dtype: int64"
            ]
          },
          "metadata": {},
          "execution_count": 37
        }
      ],
      "source": [
        "df_dataset['knowledge_area_id'].value_counts().sort_values(ascending=False)"
      ]
    },
    {
      "cell_type": "code",
      "execution_count": null,
      "metadata": {
        "colab": {
          "base_uri": "https://localhost:8080/"
        },
        "id": "GOLtIA-ODVKp",
        "outputId": "da0ab4bd-7d37-47ca-b5b2-1cccdb5da015"
      },
      "outputs": [
        {
          "output_type": "execute_result",
          "data": {
            "text/plain": [
              "1.0    1505832\n",
              "2.0     493990\n",
              "Name: modality_id, dtype: int64"
            ]
          },
          "metadata": {},
          "execution_count": 38
        }
      ],
      "source": [
        "# Esse dado é bem importante, pois do tipo 1 você tem 20% de acertar chutando, e do tipo 2 você tem 50% de chance de acertar\n",
        "df_dataset['modality_id'].value_counts().sort_values(ascending=False)"
      ]
    },
    {
      "cell_type": "code",
      "execution_count": null,
      "metadata": {
        "colab": {
          "base_uri": "https://localhost:8080/"
        },
        "id": "oRyu6yAFFbe8",
        "outputId": "d68c8361-763a-4a08-cbba-48af8c2608bc"
      },
      "outputs": [
        {
          "output_type": "execute_result",
          "data": {
            "text/plain": [
              "0.0    1994668\n",
              "1.0       5154\n",
              "Name: nullified, dtype: int64"
            ]
          },
          "metadata": {},
          "execution_count": 39
        }
      ],
      "source": [
        "# Tem que apagar as questões anuladas, pois não importa se a pessoa acertou ou não\n",
        "df_dataset['nullified'].value_counts().sort_values(ascending=False)"
      ]
    },
    {
      "cell_type": "code",
      "execution_count": null,
      "metadata": {
        "colab": {
          "base_uri": "https://localhost:8080/"
        },
        "id": "QuApLV9IFxLI",
        "outputId": "67c74314-2094-4618-f290-1dcac04f3fbb"
      },
      "outputs": [
        {
          "output_type": "execute_result",
          "data": {
            "text/plain": [
              "0.0    1964150\n",
              "1.0      35672\n",
              "Name: outdated, dtype: int64"
            ]
          },
          "metadata": {},
          "execution_count": 40
        }
      ],
      "source": [
        "# Tem que apagar as questões desatualizadas, pois não importa se a pessoa acertou ou não\n",
        "df_dataset['outdated'].value_counts().sort_values(ascending=False)"
      ]
    },
    {
      "cell_type": "code",
      "execution_count": null,
      "metadata": {
        "colab": {
          "base_uri": "https://localhost:8080/"
        },
        "id": "Q1goaQafGIGf",
        "outputId": "234e0a17-e008-4231-ff05-565335cdcffb"
      },
      "outputs": [
        {
          "output_type": "execute_result",
          "data": {
            "text/plain": [
              "1.0    1832006\n",
              "5.0     112598\n",
              "7.0      43794\n",
              "3.0       6929\n",
              "9.0       4495\n",
              "Name: product_id, dtype: int64"
            ]
          },
          "metadata": {},
          "execution_count": 41
        }
      ],
      "source": [
        "# Contando o produto\n",
        "df_dataset['product_id'].value_counts().sort_values(ascending=False)"
      ]
    },
    {
      "cell_type": "code",
      "execution_count": null,
      "metadata": {
        "colab": {
          "base_uri": "https://localhost:8080/"
        },
        "id": "fYTylbDSGUwe",
        "outputId": "ce219ff7-ca9f-4dd0-e057-335d835d7425"
      },
      "outputs": [
        {
          "output_type": "execute_result",
          "data": {
            "text/plain": [
              "2018.0    324463\n",
              "2019.0    307984\n",
              "2021.0    216724\n",
              "2017.0    195361\n",
              "2016.0    166639\n",
              "2015.0    125118\n",
              "2014.0    110668\n",
              "2020.0    108820\n",
              "2013.0    100988\n",
              "2022.0     76128\n",
              "2012.0     69254\n",
              "2010.0     48834\n",
              "2011.0     36207\n",
              "2009.0     31502\n",
              "2008.0     26449\n",
              "2007.0     14285\n",
              "2003.0     12343\n",
              "2006.0     10141\n",
              "2004.0     10042\n",
              "2005.0      5170\n",
              "2002.0      1659\n",
              "2000.0       831\n",
              "2001.0       203\n",
              "Name: publication_year, dtype: int64"
            ]
          },
          "metadata": {},
          "execution_count": 42
        }
      ],
      "source": [
        "# Contando o ano de publicação\n",
        "df_dataset['publication_year'].value_counts().sort_values(ascending=False)"
      ]
    },
    {
      "cell_type": "code",
      "execution_count": null,
      "metadata": {
        "colab": {
          "base_uri": "https://localhost:8080/",
          "height": 498
        },
        "id": "UoZrgqAiGgsu",
        "outputId": "4dcfdc2a-2e28-4146-c5f5-7157d5934624"
      },
      "outputs": [
        {
          "output_type": "display_data",
          "data": {
            "text/plain": [
              "<Figure size 1080x576 with 1 Axes>"
            ],
            "image/png": "[encoded data removed]"
          },
          "metadata": {
            "needs_background": "light"
          }
        }
      ],
      "source": [
        "# Parece não haver uma relação clara entre ano e acrto de questões\n",
        "plt.subplots(figsize=(15,8))\n",
        "sns.histplot(data = df_dataset, x = df_dataset['publication_year'], hue = 'acertou')\n",
        "plt.show()"
      ]
    },
    {
      "cell_type": "code",
      "execution_count": null,
      "metadata": {
        "colab": {
          "base_uri": "https://localhost:8080/"
        },
        "id": "KJiAH_eVG-qe",
        "outputId": "3e4adcb8-b47b-4225-98ba-0d7321cf0d62"
      },
      "outputs": [
        {
          "output_type": "execute_result",
          "data": {
            "text/plain": [
              "C    571076\n",
              "E    471281\n",
              "D    321375\n",
              "B    318455\n",
              "A    317595\n",
              "X        38\n",
              "*         1\n",
              "+         1\n",
              "Name: right_answer, dtype: int64"
            ]
          },
          "metadata": {},
          "execution_count": 44
        }
      ],
      "source": [
        "# A maioria das questões tem como resposta certa C ou E, faz sentido pois C e E pode estar tanto nas questões de certo ou errado, e nas questões de marcar\n",
        "df_dataset['right_answer'].value_counts().sort_values(ascending=False)"
      ]
    },
    {
      "cell_type": "code",
      "execution_count": null,
      "metadata": {
        "colab": {
          "base_uri": "https://localhost:8080/"
        },
        "id": "4IdMYYcxHPWH",
        "outputId": "461a6db8-0bfb-4e7e-f49b-9aa1c8058257"
      },
      "outputs": [
        {
          "output_type": "execute_result",
          "data": {
            "text/plain": [
              "3.0    1316353\n",
              "2.0     640697\n",
              "1.0      42772\n",
              "Name: scholarity_id, dtype: int64"
            ]
          },
          "metadata": {},
          "execution_count": 45
        }
      ],
      "source": [
        "df_dataset['scholarity_id'].value_counts().sort_values(ascending=False)"
      ]
    },
    {
      "cell_type": "code",
      "execution_count": null,
      "metadata": {
        "colab": {
          "base_uri": "https://localhost:8080/",
          "height": 498
        },
        "id": "OK97puaDHinc",
        "outputId": "fc891a73-dddf-4a11-f7ff-eaf0d514efab"
      },
      "outputs": [
        {
          "output_type": "display_data",
          "data": {
            "text/plain": [
              "<Figure size 1080x576 with 1 Axes>"
            ],
            "image/png": "[encoded data removed]"
          },
          "metadata": {
            "needs_background": "light"
          }
        }
      ],
      "source": [
        "plt.subplots(figsize=(15,8))\n",
        "sns.histplot(data = df_dataset, x = df_dataset['scholarity_id'], hue = 'acertou')\n",
        "plt.show()"
      ]
    },
    {
      "cell_type": "code",
      "execution_count": null,
      "metadata": {
        "colab": {
          "base_uri": "https://localhost:8080/"
        },
        "id": "JVwTaJLGHvIa",
        "outputId": "904a50a1-123b-4749-90a2-d88a7fa60f2b"
      },
      "outputs": [
        {
          "output_type": "execute_result",
          "data": {
            "text/plain": [
              "289268    403\n",
              "273475    317\n",
              "289267    300\n",
              "289257    283\n",
              "311243    279\n",
              "         ... \n",
              "249010      1\n",
              "249009      1\n",
              "383007      1\n",
              "240966      1\n",
              "428960      1\n",
              "Name: novo_question_id, Length: 498263, dtype: int64"
            ]
          },
          "metadata": {},
          "execution_count": 47
        }
      ],
      "source": [
        "df_dataset['novo_question_id'].value_counts().sort_values(ascending=False)"
      ]
    },
    {
      "cell_type": "markdown",
      "metadata": {
        "id": "MXxdxVeMs5rq"
      },
      "source": [
        "## 3. Engenharia de Variáveis\n",
        "\n",
        "Nesta etapa o objetivo é tratar as informações previamente carregadas de modo a construir um dataset com as principais variáveis que possivelmente usaremos no modelo"
      ]
    },
    {
      "cell_type": "code",
      "execution_count": null,
      "metadata": {
        "id": "omXymPDlKSt8"
      },
      "outputs": [],
      "source": [
        "# Retirando as questões nulas e desatualizadas, pois o gabarito e está errado, então não faz sentido contabilizar e nem o estudante fazer\n",
        "df_sem_anulada = df_dataset[df_dataset['nullified']==0]\n",
        "df_sem_desatualizada = df_sem_anulada[df_sem_anulada['outdated']==0]"
      ]
    },
    {
      "cell_type": "code",
      "execution_count": null,
      "metadata": {
        "id": "OJUnMR9NLPfl"
      },
      "outputs": [],
      "source": [
        "variaveis_sem_desatualizada= ['novo_user_id', 'acertou', 'platform', 'row', 'difficulty', 'modality_id', 'commented_by_professor', 'publication_year', 'scholarity_id', 'product_id']\n",
        "df_selecao = df_sem_desatualizada[variaveis_sem_desatualizada]\n",
        "df_teste = df_teste[variaveis_sem_desatualizada]"
      ]
    },
    {
      "cell_type": "code",
      "execution_count": null,
      "metadata": {
        "colab": {
          "base_uri": "https://localhost:8080/"
        },
        "id": "-Kz3g8M1oO3q",
        "outputId": "6f7c4afa-7154-440b-a99d-5c114fa2da07"
      },
      "outputs": [
        {
          "output_type": "stream",
          "name": "stderr",
          "text": [
            "<ipython-input-51-682df92b36b7>:8: SettingWithCopyWarning: \n",
            "A value is trying to be set on a copy of a slice from a DataFrame.\n",
            "Try using .loc[row_indexer,col_indexer] = value instead\n",
            "\n",
            "See the caveats in the documentation: https://pandas.pydata.org/pandas-docs/stable/user_guide/indexing.html#returning-a-view-versus-a-copy\n",
            "  df_selecao['platform_bin']= df_selecao['platform'].map(transform_platform)\n"
          ]
        }
      ],
      "source": [
        "# Tranformando o tipo de plataforma em binário\n",
        "def transform_platform(valor):\n",
        "  if valor == \"Web\":\n",
        "    return 0\n",
        "  else:\n",
        "    return 1\n",
        "\n",
        "df_selecao['platform_bin']= df_selecao['platform'].map(transform_platform)\n",
        "df_teste['platform_bin']= df_teste['platform'].map(transform_platform)"
      ]
    },
    {
      "cell_type": "code",
      "execution_count": null,
      "metadata": {
        "colab": {
          "base_uri": "https://localhost:8080/"
        },
        "id": "5YQFw0PqrHls",
        "outputId": "88b2d29b-7506-410f-87b1-766ec2245e9c"
      },
      "outputs": [
        {
          "output_type": "execute_result",
          "data": {
            "text/plain": [
              "platform                  12985\n",
              "difficulty                 2404\n",
              "publication_year              9\n",
              "novo_user_id                  0\n",
              "acertou                       0\n",
              "row                           0\n",
              "modality_id                   0\n",
              "commented_by_professor        0\n",
              "scholarity_id                 0\n",
              "product_id                    0\n",
              "platform_bin                  0\n",
              "dtype: int64"
            ]
          },
          "metadata": {},
          "execution_count": 52
        }
      ],
      "source": [
        "# Verificando se as variavéis selecionadas possuem dados nulos\n",
        "df_selecao.isnull().sum().sort_values(ascending=False)"
      ]
    },
    {
      "cell_type": "code",
      "execution_count": null,
      "metadata": {
        "id": "BbjwiroDrl8w"
      },
      "outputs": [],
      "source": [
        "# Vamos retirar as questões possuem dados nulos na coluna difficulty\n",
        "df_selecao = df_selecao.dropna(subset=['difficulty'], axis=0)"
      ]
    },
    {
      "cell_type": "code",
      "execution_count": null,
      "metadata": {
        "colab": {
          "base_uri": "https://localhost:8080/"
        },
        "id": "JcCWe95110Rq",
        "outputId": "2fb14e45-aa1b-4ff9-a7e0-c0b915c296d6"
      },
      "outputs": [
        {
          "output_type": "execute_result",
          "data": {
            "text/plain": [
              "20000    100\n",
              "18666    100\n",
              "18721    100\n",
              "2589     100\n",
              "18720    100\n",
              "        ... \n",
              "3395      60\n",
              "12391     59\n",
              "14266     47\n",
              "1157      39\n",
              "19944     33\n",
              "Name: novo_user_id, Length: 20000, dtype: int64"
            ]
          },
          "metadata": {},
          "execution_count": 54
        }
      ],
      "source": [
        "# Observando se algum usuário ficou sem dados ou pouca quantidade\n",
        "df_selecao['novo_user_id'].value_counts().sort_values(ascending=False)"
      ]
    },
    {
      "cell_type": "code",
      "source": [
        "#df_selecao = pd.get_dummies(df_selecao, columns =['modality_id'] )"
      ],
      "metadata": {
        "id": "gT83ElwYTqJE"
      },
      "execution_count": null,
      "outputs": []
    },
    {
      "cell_type": "code",
      "execution_count": null,
      "metadata": {
        "id": "QwO_BFOcpzsz"
      },
      "outputs": [],
      "source": [
        "# Fazendo a divisão em treino e validação\n",
        "Xy_treino, Xy_valid= train_test_split(df_selecao, test_size=0.3, random_state=0, stratify= df_selecao[\"novo_user_id\"])"
      ]
    },
    {
      "cell_type": "code",
      "execution_count": null,
      "metadata": {
        "colab": {
          "base_uri": "https://localhost:8080/",
          "height": 424
        },
        "id": "N2QXluLEskfr",
        "outputId": "94509244-51ae-4614-c610-9c69840cf2e7"
      },
      "outputs": [
        {
          "output_type": "execute_result",
          "data": {
            "text/plain": [
              "         novo_user_id  acertou platform  row  difficulty  modality_id  \\\n",
              "1048751         10488        1      Web   52         1.0          1.0   \n",
              "233438           2335        0      Web   39         1.0          2.0   \n",
              "715327           7154        1      Web   45         1.0          1.0   \n",
              "1227884         12279        1      Web   85         1.0          2.0   \n",
              "1762106         17622        0  Android    7         3.0          2.0   \n",
              "...               ...      ...      ...  ...         ...          ...   \n",
              "1731704         17318        1      Web    5         1.0          2.0   \n",
              "688736           6888        1      Web   37         1.0          1.0   \n",
              "1490245         14903        0      Web   46         4.0          1.0   \n",
              "643343           6434        1  Android   44         2.0          1.0   \n",
              "1192230         11923        0      iOS   31         2.0          1.0   \n",
              "\n",
              "         commented_by_professor  publication_year  scholarity_id  product_id  \\\n",
              "1048751                     0.0            2006.0            3.0         7.0   \n",
              "233438                      0.0            2011.0            3.0         1.0   \n",
              "715327                      0.0            2016.0            3.0         1.0   \n",
              "1227884                     1.0            2019.0            3.0         1.0   \n",
              "1762106                     1.0            2018.0            2.0         1.0   \n",
              "...                         ...               ...            ...         ...   \n",
              "1731704                     0.0            2004.0            3.0         1.0   \n",
              "688736                      0.0            2013.0            2.0         1.0   \n",
              "1490245                     0.0            2016.0            3.0         1.0   \n",
              "643343                      1.0            2019.0            3.0         1.0   \n",
              "1192230                     1.0            2018.0            2.0         1.0   \n",
              "\n",
              "         platform_bin  \n",
              "1048751             0  \n",
              "233438              0  \n",
              "715327              0  \n",
              "1227884             0  \n",
              "1762106             1  \n",
              "...               ...  \n",
              "1731704             0  \n",
              "688736              0  \n",
              "1490245             0  \n",
              "643343              1  \n",
              "1192230             1  \n",
              "\n",
              "[1369650 rows x 11 columns]"
            ],
            "text/html": [
              "\n",
              "  <div id=\"df-7950d608-8090-4f5c-90f3-02ea1ed38ba7\">\n",
              "    <div class=\"colab-df-container\">\n",
              "      <div>\n",
              "<style scoped>\n",
              "    .dataframe tbody tr th:only-of-type {\n",
              "        vertical-align: middle;\n",
              "    }\n",
              "\n",
              "    .dataframe tbody tr th {\n",
              "        vertical-align: top;\n",
              "    }\n",
              "\n",
              "    .dataframe thead th {\n",
              "        text-align: right;\n",
              "    }\n",
              "</style>\n",
              "<table border=\"1\" class=\"dataframe\">\n",
              "  <thead>\n",
              "    <tr style=\"text-align: right;\">\n",
              "      <th></th>\n",
              "      <th>novo_user_id</th>\n",
              "      <th>acertou</th>\n",
              "      <th>platform</th>\n",
              "      <th>row</th>\n",
              "      <th>difficulty</th>\n",
              "      <th>modality_id</th>\n",
              "      <th>commented_by_professor</th>\n",
              "      <th>publication_year</th>\n",
              "      <th>scholarity_id</th>\n",
              "      <th>product_id</th>\n",
              "      <th>platform_bin</th>\n",
              "    </tr>\n",
              "  </thead>\n",
              "  <tbody>\n",
              "    <tr>\n",
              "      <th>1048751</th>\n",
              "      <td>10488</td>\n",
              "      <td>1</td>\n",
              "      <td>Web</td>\n",
              "      <td>52</td>\n",
              "      <td>1.0</td>\n",
              "      <td>1.0</td>\n",
              "      <td>0.0</td>\n",
              "      <td>2006.0</td>\n",
              "      <td>3.0</td>\n",
              "      <td>7.0</td>\n",
              "      <td>0</td>\n",
              "    </tr>\n",
              "    <tr>\n",
              "      <th>233438</th>\n",
              "      <td>2335</td>\n",
              "      <td>0</td>\n",
              "      <td>Web</td>\n",
              "      <td>39</td>\n",
              "      <td>1.0</td>\n",
              "      <td>2.0</td>\n",
              "      <td>0.0</td>\n",
              "      <td>2011.0</td>\n",
              "      <td>3.0</td>\n",
              "      <td>1.0</td>\n",
              "      <td>0</td>\n",
              "    </tr>\n",
              "    <tr>\n",
              "      <th>715327</th>\n",
              "      <td>7154</td>\n",
              "      <td>1</td>\n",
              "      <td>Web</td>\n",
              "      <td>45</td>\n",
              "      <td>1.0</td>\n",
              "      <td>1.0</td>\n",
              "      <td>0.0</td>\n",
              "      <td>2016.0</td>\n",
              "      <td>3.0</td>\n",
              "      <td>1.0</td>\n",
              "      <td>0</td>\n",
              "    </tr>\n",
              "    <tr>\n",
              "      <th>1227884</th>\n",
              "      <td>12279</td>\n",
              "      <td>1</td>\n",
              "      <td>Web</td>\n",
              "      <td>85</td>\n",
              "      <td>1.0</td>\n",
              "      <td>2.0</td>\n",
              "      <td>1.0</td>\n",
              "      <td>2019.0</td>\n",
              "      <td>3.0</td>\n",
              "      <td>1.0</td>\n",
              "      <td>0</td>\n",
              "    </tr>\n",
              "    <tr>\n",
              "      <th>1762106</th>\n",
              "      <td>17622</td>\n",
              "      <td>0</td>\n",
              "      <td>Android</td>\n",
              "      <td>7</td>\n",
              "      <td>3.0</td>\n",
              "      <td>2.0</td>\n",
              "      <td>1.0</td>\n",
              "      <td>2018.0</td>\n",
              "      <td>2.0</td>\n",
              "      <td>1.0</td>\n",
              "      <td>1</td>\n",
              "    </tr>\n",
              "    <tr>\n",
              "      <th>...</th>\n",
              "      <td>...</td>\n",
              "      <td>...</td>\n",
              "      <td>...</td>\n",
              "      <td>...</td>\n",
              "      <td>...</td>\n",
              "      <td>...</td>\n",
              "      <td>...</td>\n",
              "      <td>...</td>\n",
              "      <td>...</td>\n",
              "      <td>...</td>\n",
              "      <td>...</td>\n",
              "    </tr>\n",
              "    <tr>\n",
              "      <th>1731704</th>\n",
              "      <td>17318</td>\n",
              "      <td>1</td>\n",
              "      <td>Web</td>\n",
              "      <td>5</td>\n",
              "      <td>1.0</td>\n",
              "      <td>2.0</td>\n",
              "      <td>0.0</td>\n",
              "      <td>2004.0</td>\n",
              "      <td>3.0</td>\n",
              "      <td>1.0</td>\n",
              "      <td>0</td>\n",
              "    </tr>\n",
              "    <tr>\n",
              "      <th>688736</th>\n",
              "      <td>6888</td>\n",
              "      <td>1</td>\n",
              "      <td>Web</td>\n",
              "      <td>37</td>\n",
              "      <td>1.0</td>\n",
              "      <td>1.0</td>\n",
              "      <td>0.0</td>\n",
              "      <td>2013.0</td>\n",
              "      <td>2.0</td>\n",
              "      <td>1.0</td>\n",
              "      <td>0</td>\n",
              "    </tr>\n",
              "    <tr>\n",
              "      <th>1490245</th>\n",
              "      <td>14903</td>\n",
              "      <td>0</td>\n",
              "      <td>Web</td>\n",
              "      <td>46</td>\n",
              "      <td>4.0</td>\n",
              "      <td>1.0</td>\n",
              "      <td>0.0</td>\n",
              "      <td>2016.0</td>\n",
              "      <td>3.0</td>\n",
              "      <td>1.0</td>\n",
              "      <td>0</td>\n",
              "    </tr>\n",
              "    <tr>\n",
              "      <th>643343</th>\n",
              "      <td>6434</td>\n",
              "      <td>1</td>\n",
              "      <td>Android</td>\n",
              "      <td>44</td>\n",
              "      <td>2.0</td>\n",
              "      <td>1.0</td>\n",
              "      <td>1.0</td>\n",
              "      <td>2019.0</td>\n",
              "      <td>3.0</td>\n",
              "      <td>1.0</td>\n",
              "      <td>1</td>\n",
              "    </tr>\n",
              "    <tr>\n",
              "      <th>1192230</th>\n",
              "      <td>11923</td>\n",
              "      <td>0</td>\n",
              "      <td>iOS</td>\n",
              "      <td>31</td>\n",
              "      <td>2.0</td>\n",
              "      <td>1.0</td>\n",
              "      <td>1.0</td>\n",
              "      <td>2018.0</td>\n",
              "      <td>2.0</td>\n",
              "      <td>1.0</td>\n",
              "      <td>1</td>\n",
              "    </tr>\n",
              "  </tbody>\n",
              "</table>\n",
              "<p>1369650 rows × 11 columns</p>\n",
              "</div>\n",
              "      <button class=\"colab-df-convert\" onclick=\"convertToInteractive('df-7950d608-8090-4f5c-90f3-02ea1ed38ba7')\"\n",
              "              title=\"Convert this dataframe to an interactive table.\"\n",
              "              style=\"display:none;\">\n",
              "        \n",
              "  <svg xmlns=\"http://www.w3.org/2000/svg\" height=\"24px\"viewBox=\"0 0 24 24\"\n",
              "       width=\"24px\">\n",
              "    <path d=\"M0 0h24v24H0V0z\" fill=\"none\"/>\n",
              "    <path d=\"M18.56 5.44l.94 2.06.94-2.06 2.06-.94-2.06-.94-.94-2.06-.94 2.06-2.06.94zm-11 1L8.5 8.5l.94-2.06 2.06-.94-2.06-.94L8.5 2.5l-.94 2.06-2.06.94zm10 10l.94 2.06.94-2.06 2.06-.94-2.06-.94-.94-2.06-.94 2.06-2.06.94z\"/><path d=\"M17.41 7.96l-1.37-1.37c-.4-.4-.92-.59-1.43-.59-.52 0-1.04.2-1.43.59L10.3 9.45l-7.72 7.72c-.78.78-.78 2.05 0 2.83L4 21.41c.39.39.9.59 1.41.59.51 0 1.02-.2 1.41-.59l7.78-7.78 2.81-2.81c.8-.78.8-2.07 0-2.86zM5.41 20L4 18.59l7.72-7.72 1.47 1.35L5.41 20z\"/>\n",
              "  </svg>\n",
              "      </button>\n",
              "      \n",
              "  <style>\n",
              "    .colab-df-container {\n",
              "      display:flex;\n",
              "      flex-wrap:wrap;\n",
              "      gap: 12px;\n",
              "    }\n",
              "\n",
              "    .colab-df-convert {\n",
              "      background-color: #E8F0FE;\n",
              "      border: none;\n",
              "      border-radius: 50%;\n",
              "      cursor: pointer;\n",
              "      display: none;\n",
              "      fill: #1967D2;\n",
              "      height: 32px;\n",
              "      padding: 0 0 0 0;\n",
              "      width: 32px;\n",
              "    }\n",
              "\n",
              "    .colab-df-convert:hover {\n",
              "      background-color: #E2EBFA;\n",
              "      box-shadow: 0px 1px 2px rgba(60, 64, 67, 0.3), 0px 1px 3px 1px rgba(60, 64, 67, 0.15);\n",
              "      fill: #174EA6;\n",
              "    }\n",
              "\n",
              "    [theme=dark] .colab-df-convert {\n",
              "      background-color: #3B4455;\n",
              "      fill: #D2E3FC;\n",
              "    }\n",
              "\n",
              "    [theme=dark] .colab-df-convert:hover {\n",
              "      background-color: #434B5C;\n",
              "      box-shadow: 0px 1px 3px 1px rgba(0, 0, 0, 0.15);\n",
              "      filter: drop-shadow(0px 1px 2px rgba(0, 0, 0, 0.3));\n",
              "      fill: #FFFFFF;\n",
              "    }\n",
              "  </style>\n",
              "\n",
              "      <script>\n",
              "        const buttonEl =\n",
              "          document.querySelector('#df-7950d608-8090-4f5c-90f3-02ea1ed38ba7 button.colab-df-convert');\n",
              "        buttonEl.style.display =\n",
              "          google.colab.kernel.accessAllowed ? 'block' : 'none';\n",
              "\n",
              "        async function convertToInteractive(key) {\n",
              "          const element = document.querySelector('#df-7950d608-8090-4f5c-90f3-02ea1ed38ba7');\n",
              "          const dataTable =\n",
              "            await google.colab.kernel.invokeFunction('convertToInteractive',\n",
              "                                                     [key], {});\n",
              "          if (!dataTable) return;\n",
              "\n",
              "          const docLinkHtml = 'Like what you see? Visit the ' +\n",
              "            '<a target=\"_blank\" href=https://colab.research.google.com/notebooks/data_table.ipynb>data table notebook</a>'\n",
              "            + ' to learn more about interactive tables.';\n",
              "          element.innerHTML = '';\n",
              "          dataTable['output_type'] = 'display_data';\n",
              "          await google.colab.output.renderOutput(dataTable, element);\n",
              "          const docLink = document.createElement('div');\n",
              "          docLink.innerHTML = docLinkHtml;\n",
              "          element.appendChild(docLink);\n",
              "        }\n",
              "      </script>\n",
              "    </div>\n",
              "  </div>\n",
              "  "
            ]
          },
          "metadata": {},
          "execution_count": 57
        }
      ],
      "source": [
        "Xy_treino"
      ]
    },
    {
      "cell_type": "code",
      "execution_count": null,
      "metadata": {
        "id": "FQgD8HDgtKG_"
      },
      "outputs": [],
      "source": [
        "# Vamos calcular o acerto médio e a dificuldade média dos dados de treino\n",
        "df_selecao_gb =Xy_treino.groupby([\"novo_user_id\"], as_index=False).agg({\"acertou\":'mean', 'difficulty': 'mean'})\n",
        "df_selecao_gb = df_selecao_gb.rename(columns={\"acertou\": \"media_acerto\", 'difficulty': 'dificuldade_media'})"
      ]
    },
    {
      "cell_type": "code",
      "execution_count": null,
      "metadata": {
        "id": "Hfb23zc3wHYZ"
      },
      "outputs": [],
      "source": [
        "# Criando uma coluna que relaciona o acerto médio com a quantidade média\n",
        "df_selecao_gb['media_acerto_dificuldade'] = df_selecao_gb['media_acerto']*df_selecao_gb['dificuldade_media']"
      ]
    },
    {
      "cell_type": "code",
      "execution_count": null,
      "metadata": {
        "id": "leP_GcaUtckN"
      },
      "outputs": [],
      "source": [
        "# Juntando o arquivo de df_selecao_gb com os dados de treino, validação e teste\n",
        "Xy_treino = Xy_treino.merge(df_selecao_gb, how='inner', on='novo_user_id')\n",
        "Xy_valid = Xy_valid.merge(df_selecao_gb, how='inner', on='novo_user_id')\n",
        "df_teste = df_teste.merge(df_selecao_gb, how='inner', on='novo_user_id')"
      ]
    },
    {
      "cell_type": "code",
      "execution_count": null,
      "metadata": {
        "id": "Eh3IHsVf-Na9"
      },
      "outputs": [],
      "source": [
        "# Dividindo entre X e y de treino e validação\n",
        "X_treino = Xy_treino.drop(columns= 'acertou')\n",
        "y_treino = Xy_treino['acertou']\n",
        "\n",
        "X_valid = Xy_valid.drop(columns= 'acertou')\n",
        "y_valid = Xy_valid['acertou']"
      ]
    },
    {
      "cell_type": "code",
      "execution_count": null,
      "metadata": {
        "id": "CsQGRHVsB85r"
      },
      "outputs": [],
      "source": [
        "# Selecionando as variáveis que de fato vão ser usadas no modelo\n",
        "selecao= ['platform_bin','media_acerto','row', 'dificuldade_media', 'difficulty', 'modality_id']\n",
        "X_treino = X_treino[selecao]\n",
        "X_valid = X_valid[selecao]\n",
        "df_teste = df_teste[selecao]"
      ]
    },
    {
      "cell_type": "code",
      "source": [
        "# Apliquei Stardard Scaler, porém acabou performando pior\n",
        "#selecao_stardard = ['platform_bin','media_acerto','row', 'dificuldade_media', 'difficulty', 'modality_id']\n",
        "#scaler = StandardScaler()\n",
        "#X_treino = scaler.fit_transform(X_treino)\n",
        "#X_treino = pd.DataFrame(X_treino, columns = selecao)\n",
        "#X_valid = scaler.fit_transform(X_valid)\n",
        "#X_valid = pd.DataFrame(X_valid, columns = selecao)"
      ],
      "metadata": {
        "id": "iCiJNdnEEoMV"
      },
      "execution_count": null,
      "outputs": []
    },
    {
      "cell_type": "code",
      "execution_count": null,
      "metadata": {
        "id": "Cy_Frj1vIVHI"
      },
      "outputs": [],
      "source": [
        "# Juntando os dados de treino e validação para aplicar a validação cruzada\n",
        "X = pd.concat([X_treino, X_valid], axis=0)\n",
        "y = pd.concat([y_treino, y_valid], axis=0)"
      ]
    },
    {
      "cell_type": "markdown",
      "metadata": {
        "id": "VPBTRKYbEfgZ"
      },
      "source": [
        "## 4. Treinando o modelo\n",
        "\n",
        "Nesta etapa, vamos de fato treinar os modelos de classificação\n",
        "\n"
      ]
    },
    {
      "cell_type": "code",
      "execution_count": null,
      "metadata": {
        "colab": {
          "base_uri": "https://localhost:8080/"
        },
        "id": "CGDWQ2cYqb36",
        "outputId": "14f81315-21a0-49eb-e68b-be8e21f01f11"
      },
      "outputs": [
        {
          "output_type": "stream",
          "name": "stdout",
          "text": [
            "Treino: 978322\n",
            "Valid: 978322\n",
            "F1:  0.7976180461900407\n",
            "\n",
            "Treino: 978322\n",
            "Valid: 978322\n",
            "F1:  0.7970874208184111\n",
            "\n",
            "Treino: 978322\n",
            "Valid: 978322\n",
            "F1:  0.7974255703776314\n",
            "\n",
            "Treino: 978322\n",
            "Valid: 978322\n",
            "F1:  0.7966549020194994\n",
            "\n",
            "Treino: 978322\n",
            "Valid: 978322\n",
            "F1:  0.7975595807081233\n",
            "\n",
            "Treino: 978322\n",
            "Valid: 978322\n",
            "F1:  0.7970389597315665\n",
            "\n",
            "Treino: 978322\n",
            "Valid: 978322\n",
            "F1:  0.7971697824744223\n",
            "\n",
            "Treino: 978322\n",
            "Valid: 978322\n",
            "F1:  0.7973894043406656\n",
            "\n",
            "Treino: 978322\n",
            "Valid: 978322\n",
            "F1:  0.7969312189457253\n",
            "\n",
            "Treino: 978322\n",
            "Valid: 978322\n",
            "F1:  0.7975665347577234\n",
            "\n",
            "Treino: 978322\n",
            "Valid: 978322\n",
            "F1:  0.7969636807303071\n",
            "\n",
            "Treino: 978322\n",
            "Valid: 978322\n",
            "F1:  0.7973589282512916\n",
            "\n",
            "Treino: 978322\n",
            "Valid: 978322\n",
            "F1:  0.7979698309390549\n",
            "\n",
            "Treino: 978322\n",
            "Valid: 978322\n",
            "F1:  0.7967388761012347\n",
            "\n",
            "Treino: 978322\n",
            "Valid: 978322\n",
            "F1:  0.7973110339278257\n",
            "\n",
            "Treino: 978322\n",
            "Valid: 978322\n",
            "F1:  0.7971863260067656\n",
            "\n",
            "Treino: 978322\n",
            "Valid: 978322\n",
            "F1:  0.7972247349002024\n",
            "\n",
            "Treino: 978322\n",
            "Valid: 978322\n",
            "F1:  0.7971648394392785\n",
            "\n",
            "Treino: 978322\n",
            "Valid: 978322\n",
            "F1:  0.797381199162949\n",
            "\n",
            "Treino: 978322\n",
            "Valid: 978322\n",
            "F1:  0.7970690579250791\n",
            "\n",
            "f1 médio: 0.7972404963873899\n"
          ]
        }
      ],
      "source": [
        "# Aplicando validação cruzada e RandomForestClassifier\n",
        "resultados = []\n",
        "kf = RepeatedKFold(n_splits=2, n_repeats=10, random_state=10)\n",
        "\n",
        "for linhas_treino, linhas_valid in kf.split(X):\n",
        "  print(\"Treino:\", linhas_treino.shape[0])\n",
        "  print(\"Valid:\", linhas_valid.shape[0])\n",
        "\n",
        "  X_treino, X_valid = X.iloc[linhas_treino], X.iloc[linhas_valid]\n",
        "  y_treino, y_valid = y.iloc[linhas_treino], y.iloc[linhas_valid]\n",
        "\n",
        "  modelo = RandomForestClassifier(n_estimators=200, min_samples_leaf= 2, max_depth= 4, n_jobs=-1, random_state=0)\n",
        "  modelo.fit(X_treino, y_treino)\n",
        "\n",
        "  p= modelo.predict(X_valid)\n",
        "\n",
        "  f1 = f1_score(y_valid, p)\n",
        "  resultados.append(f1)\n",
        "  print(\"F1: \", f1)\n",
        "  print()\n",
        "\n",
        "print('f1 médio:', np.mean(resultados))"
      ]
    },
    {
      "cell_type": "code",
      "execution_count": null,
      "metadata": {
        "colab": {
          "base_uri": "https://localhost:8080/"
        },
        "id": "CyQonMc7-Z2u",
        "outputId": "72cfe5af-d131-4f33-c971-eb11162af887"
      },
      "outputs": [
        {
          "output_type": "stream",
          "name": "stdout",
          "text": [
            "Treino: 978322\n",
            "Valid: 978322\n",
            "F1:  0.7974199599290686\n",
            "\n",
            "Treino: 978322\n",
            "Valid: 978322\n"
          ]
        },
        {
          "output_type": "stream",
          "name": "stderr",
          "text": [
            "/usr/local/lib/python3.8/dist-packages/sklearn/linear_model/_logistic.py:814: ConvergenceWarning: lbfgs failed to converge (status=1):\n",
            "STOP: TOTAL NO. of ITERATIONS REACHED LIMIT.\n",
            "\n",
            "Increase the number of iterations (max_iter) or scale the data as shown in:\n",
            "    https://scikit-learn.org/stable/modules/preprocessing.html\n",
            "Please also refer to the documentation for alternative solver options:\n",
            "    https://scikit-learn.org/stable/modules/linear_model.html#logistic-regression\n",
            "  n_iter_i = _check_optimize_result(\n"
          ]
        },
        {
          "output_type": "stream",
          "name": "stdout",
          "text": [
            "F1:  0.7967881252176257\n",
            "\n",
            "Treino: 978322\n",
            "Valid: 978322\n"
          ]
        },
        {
          "output_type": "stream",
          "name": "stderr",
          "text": [
            "/usr/local/lib/python3.8/dist-packages/sklearn/linear_model/_logistic.py:814: ConvergenceWarning: lbfgs failed to converge (status=1):\n",
            "STOP: TOTAL NO. of ITERATIONS REACHED LIMIT.\n",
            "\n",
            "Increase the number of iterations (max_iter) or scale the data as shown in:\n",
            "    https://scikit-learn.org/stable/modules/preprocessing.html\n",
            "Please also refer to the documentation for alternative solver options:\n",
            "    https://scikit-learn.org/stable/modules/linear_model.html#logistic-regression\n",
            "  n_iter_i = _check_optimize_result(\n"
          ]
        },
        {
          "output_type": "stream",
          "name": "stdout",
          "text": [
            "F1:  0.7969947636032481\n",
            "\n",
            "Treino: 978322\n",
            "Valid: 978322\n",
            "F1:  0.7971918012378798\n",
            "\n",
            "Treino: 978322\n",
            "Valid: 978322\n",
            "F1:  0.7971672748358364\n",
            "\n",
            "Treino: 978322\n",
            "Valid: 978322\n",
            "F1:  0.7970461726819413\n",
            "\n",
            "Treino: 978322\n",
            "Valid: 978322\n",
            "F1:  0.7968553203021117\n",
            "\n",
            "Treino: 978322\n",
            "Valid: 978322\n",
            "F1:  0.7973719230078159\n",
            "\n",
            "Treino: 978322\n",
            "Valid: 978322\n",
            "F1:  0.7967383394723015\n",
            "\n",
            "Treino: 978322\n",
            "Valid: 978322\n"
          ]
        },
        {
          "output_type": "stream",
          "name": "stderr",
          "text": [
            "/usr/local/lib/python3.8/dist-packages/sklearn/linear_model/_logistic.py:814: ConvergenceWarning: lbfgs failed to converge (status=1):\n",
            "STOP: TOTAL NO. of ITERATIONS REACHED LIMIT.\n",
            "\n",
            "Increase the number of iterations (max_iter) or scale the data as shown in:\n",
            "    https://scikit-learn.org/stable/modules/preprocessing.html\n",
            "Please also refer to the documentation for alternative solver options:\n",
            "    https://scikit-learn.org/stable/modules/linear_model.html#logistic-regression\n",
            "  n_iter_i = _check_optimize_result(\n"
          ]
        },
        {
          "output_type": "stream",
          "name": "stdout",
          "text": [
            "F1:  0.797462589688262\n",
            "\n",
            "Treino: 978322\n",
            "Valid: 978322\n",
            "F1:  0.7969493003372113\n",
            "\n",
            "Treino: 978322\n",
            "Valid: 978322\n",
            "F1:  0.7972523692523692\n",
            "\n",
            "Treino: 978322\n",
            "Valid: 978322\n",
            "F1:  0.7976294284237089\n",
            "\n",
            "Treino: 978322\n",
            "Valid: 978322\n",
            "F1:  0.796577913378608\n",
            "\n",
            "Treino: 978322\n",
            "Valid: 978322\n",
            "F1:  0.7970902732412215\n",
            "\n",
            "Treino: 978322\n",
            "Valid: 978322\n",
            "F1:  0.7971572888193437\n",
            "\n",
            "Treino: 978322\n",
            "Valid: 978322\n",
            "F1:  0.7970992414642792\n",
            "\n",
            "Treino: 978322\n",
            "Valid: 978322\n",
            "F1:  0.7970754753405569\n",
            "\n",
            "Treino: 978322\n",
            "Valid: 978322\n"
          ]
        },
        {
          "output_type": "stream",
          "name": "stderr",
          "text": [
            "/usr/local/lib/python3.8/dist-packages/sklearn/linear_model/_logistic.py:814: ConvergenceWarning: lbfgs failed to converge (status=1):\n",
            "STOP: TOTAL NO. of ITERATIONS REACHED LIMIT.\n",
            "\n",
            "Increase the number of iterations (max_iter) or scale the data as shown in:\n",
            "    https://scikit-learn.org/stable/modules/preprocessing.html\n",
            "Please also refer to the documentation for alternative solver options:\n",
            "    https://scikit-learn.org/stable/modules/linear_model.html#logistic-regression\n",
            "  n_iter_i = _check_optimize_result(\n"
          ]
        },
        {
          "output_type": "stream",
          "name": "stdout",
          "text": [
            "F1:  0.7968604595587718\n",
            "\n",
            "Treino: 978322\n",
            "Valid: 978322\n"
          ]
        },
        {
          "output_type": "stream",
          "name": "stderr",
          "text": [
            "/usr/local/lib/python3.8/dist-packages/sklearn/linear_model/_logistic.py:814: ConvergenceWarning: lbfgs failed to converge (status=1):\n",
            "STOP: TOTAL NO. of ITERATIONS REACHED LIMIT.\n",
            "\n",
            "Increase the number of iterations (max_iter) or scale the data as shown in:\n",
            "    https://scikit-learn.org/stable/modules/preprocessing.html\n",
            "Please also refer to the documentation for alternative solver options:\n",
            "    https://scikit-learn.org/stable/modules/linear_model.html#logistic-regression\n",
            "  n_iter_i = _check_optimize_result(\n"
          ]
        },
        {
          "output_type": "stream",
          "name": "stdout",
          "text": [
            "F1:  0.7971292477188875\n",
            "\n",
            "f1 médio: 0.7970928633755524\n"
          ]
        }
      ],
      "source": [
        "# Fazendo agora Regressão Logística\n",
        "\n",
        "resultados = []\n",
        "kf = RepeatedKFold(n_splits=2, n_repeats=10, random_state=10)\n",
        "\n",
        "for linhas_treino, linhas_valid in kf.split(X):\n",
        "  print(\"Treino:\", linhas_treino.shape[0])\n",
        "  print(\"Valid:\", linhas_valid.shape[0])\n",
        "\n",
        "  X_treino, X_valid = X.iloc[linhas_treino], X.iloc[linhas_valid]\n",
        "  y_treino, y_valid = y.iloc[linhas_treino], y.iloc[linhas_valid]\n",
        "\n",
        "  modelo = LogisticRegression(C=0.001)\n",
        "  modelo.fit(X_treino, y_treino)\n",
        "\n",
        "  p= modelo.predict(X_valid)\n",
        "\n",
        "  f1 = f1_score(y_valid, p)\n",
        "  resultados.append(f1)\n",
        "  print(\"F1: \", f1)\n",
        "  print()\n",
        "\n",
        "print('f1 médio:', np.mean(resultados))"
      ]
    },
    {
      "cell_type": "code",
      "execution_count": null,
      "metadata": {
        "colab": {
          "base_uri": "https://localhost:8080/"
        },
        "id": "oUz98wBFvkEU",
        "outputId": "c61e936f-23ae-4cd9-f252-909574d36b85"
      },
      "outputs": [
        {
          "output_type": "stream",
          "name": "stdout",
          "text": [
            "Treino: 978322\n",
            "Valid: 978322\n",
            "F1:  0.7949500065280612\n",
            "\n",
            "Treino: 978322\n",
            "Valid: 978322\n",
            "F1:  0.7947364911231529\n",
            "\n",
            "Treino: 978322\n",
            "Valid: 978322\n",
            "F1:  0.7953927034660041\n",
            "\n",
            "Treino: 978322\n",
            "Valid: 978322\n",
            "F1:  0.7944743650004844\n",
            "\n",
            "Treino: 978322\n",
            "Valid: 978322\n",
            "F1:  0.7950239421003252\n",
            "\n",
            "Treino: 978322\n",
            "Valid: 978322\n",
            "F1:  0.7950365229283426\n",
            "\n",
            "Treino: 978322\n",
            "Valid: 978322\n",
            "F1:  0.7951333542044419\n",
            "\n",
            "Treino: 978322\n",
            "Valid: 978322\n",
            "F1:  0.7947715981849812\n",
            "\n",
            "Treino: 978322\n",
            "Valid: 978322\n",
            "F1:  0.7941786031432901\n",
            "\n",
            "Treino: 978322\n",
            "Valid: 978322\n",
            "F1:  0.7955334251691835\n",
            "\n",
            "Treino: 978322\n",
            "Valid: 978322\n",
            "F1:  0.7945763606995679\n",
            "\n",
            "Treino: 978322\n",
            "Valid: 978322\n",
            "F1:  0.794876999065507\n",
            "\n",
            "Treino: 978322\n",
            "Valid: 978322\n",
            "F1:  0.7955801817077782\n",
            "\n",
            "Treino: 978322\n",
            "Valid: 978322\n",
            "F1:  0.794028392085284\n",
            "\n",
            "Treino: 978322\n",
            "Valid: 978322\n",
            "F1:  0.7948224648484988\n",
            "\n",
            "Treino: 978322\n",
            "Valid: 978322\n",
            "F1:  0.7953054918982269\n",
            "\n",
            "Treino: 978322\n",
            "Valid: 978322\n",
            "F1:  0.7947665443720205\n",
            "\n",
            "Treino: 978322\n",
            "Valid: 978322\n",
            "F1:  0.794798067394348\n",
            "\n",
            "Treino: 978322\n",
            "Valid: 978322\n",
            "F1:  0.7947151365942645\n",
            "\n",
            "Treino: 978322\n",
            "Valid: 978322\n",
            "F1:  0.7950870107126516\n",
            "\n",
            "f1 médio: 0.7948893830613206\n"
          ]
        }
      ],
      "source": [
        "# XGBOOST\n",
        "\n",
        "# XGBoost com Cross Validation\n",
        "\n",
        "resultados = []\n",
        "kf = RepeatedKFold(n_splits=2, n_repeats=10, random_state=10)\n",
        "\n",
        "for linhas_treino, linhas_valid in kf.split(X):\n",
        "  print(\"Treino:\", linhas_treino.shape[0])\n",
        "  print(\"Valid:\", linhas_valid.shape[0])\n",
        "\n",
        "  X_treino, X_valid = X.iloc[linhas_treino], X.iloc[linhas_valid]\n",
        "  y_treino, y_valid = y.iloc[linhas_treino], y.iloc[linhas_valid]\n",
        "\n",
        "  modelo = xgb.XGBClassifier(objective=\"binary:logistic\", random_state=0,\n",
        "                             n_estimators=100)\n",
        "  modelo.fit(X_treino, y_treino)\n",
        "\n",
        "  p= modelo.predict(X_valid)\n",
        "  f1 = f1_score(y_valid, p)\n",
        "  resultados.append(f1)\n",
        "  print(\"F1: \", f1)\n",
        "  print()\n",
        "\n",
        "print('f1 médio:', np.mean(resultados))"
      ]
    },
    {
      "cell_type": "markdown",
      "metadata": {
        "id": "etifpDhCE7ac"
      },
      "source": [
        "## 5. Criando o modelo para submissão\n",
        "\n",
        "Nesta etapa, vamos aplicar um ensemble ou escolher o melhor modelo para submissão e enviar para o site SigmaGeek\n",
        "\n"
      ]
    },
    {
      "cell_type": "code",
      "execution_count": null,
      "metadata": {
        "id": "INWbFQsC1tg0"
      },
      "outputs": [],
      "source": [
        "# Uma opção é fazer um ensemble com todos os modelos que criamos, a nota dele na leaderboard ficou um pouco menor, mas parece ser um modelo mais estável\n",
        "\n",
        "clf1 = RandomForestClassifier(n_estimators=200, min_samples_leaf= 2, max_depth= 2, n_jobs=-1, random_state=0)\n",
        "clf2 = LogisticRegression(random_state=0, C=0.001)\n",
        "clf3 = xgb.XGBClassifier( random_state=0, objective=\"binary:logistic\", n_estimators=100)\n",
        "\n",
        "eclf = VotingClassifier(estimators=[('RF', clf1), ('LR', clf2), ('XGB', clf3)],\n",
        "                        voting='soft', weights=[1,1,1])\n",
        "\n",
        "eclf.fit(X, y)\n",
        "p= eclf.predict(df_teste.fillna(-1))"
      ]
    },
    {
      "cell_type": "code",
      "source": [
        "# Outra opção é enviar o modelo que performou melhor\n",
        "clf2 = LogisticRegression(random_state=0, C=0.001)\n",
        "\n",
        "clf2.fit(X, y)\n",
        "p= clf2.predict(df_teste.fillna(-1))"
      ],
      "metadata": {
        "id": "gIc9u6B8StHN"
      },
      "execution_count": null,
      "outputs": []
    },
    {
      "cell_type": "code",
      "execution_count": null,
      "metadata": {
        "id": "T8vC3IyJ3SP0"
      },
      "outputs": [],
      "source": [
        "# Formatando para ter o formato do desejado pelo SigmaGeek\n",
        "sub = pd.Series(p, name='Acerto')"
      ]
    },
    {
      "cell_type": "code",
      "execution_count": null,
      "metadata": {
        "colab": {
          "base_uri": "https://localhost:8080/"
        },
        "id": "tKajt7bYaxZF",
        "outputId": "4b52da3d-7b23-4034-fea5-0cfceb2b9e55"
      },
      "outputs": [
        {
          "output_type": "execute_result",
          "data": {
            "text/plain": [
              "20000"
            ]
          },
          "metadata": {},
          "execution_count": 71
        }
      ],
      "source": [
        "# Verificando se está com o número de linhas corretas, o certo é realmente 20000\n",
        "len(sub)"
      ]
    },
    {
      "cell_type": "code",
      "execution_count": null,
      "metadata": {
        "id": "XRiA22lW3S4-"
      },
      "outputs": [],
      "source": [
        "# Crinado o arquivo csv para enviar no kaggle\n",
        "sub.to_csv('sigma.csv', header= False, index=None)"
      ]
    },
    {
      "cell_type": "code",
      "execution_count": null,
      "metadata": {
        "colab": {
          "base_uri": "https://localhost:8080/"
        },
        "id": "tan8qIcoaD7v",
        "outputId": "a3ebaa18-847d-4132-8bed-9831bc91af68"
      },
      "outputs": [
        {
          "output_type": "stream",
          "name": "stdout",
          "text": [
            "1\n",
            "1\n",
            "0\n",
            "1\n",
            "0\n",
            "1\n",
            "1\n",
            "0\n",
            "1\n",
            "1\n"
          ]
        }
      ],
      "source": [
        "# Olhando as primeiras linhas do arquivo\n",
        "!head -n10 sigma.csv"
      ]
    }
  ],
  "metadata": {
    "colab": {
      "provenance": [],
      "authorship_tag": "ABX9TyOcciBmNR7pskEy4wqdlR3f",
      "include_colab_link": true
    },
    "kernelspec": {
      "display_name": "Python 3",
      "name": "python3"
    },
    "language_info": {
      "name": "python"
    },
    "gpuClass": "standard"
  },
  "nbformat": 4,
  "nbformat_minor": 0
}